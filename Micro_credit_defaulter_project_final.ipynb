{
 "cells": [
  {
   "cell_type": "markdown",
   "metadata": {
    "id": "O5N9vyGJQwa_"
   },
   "source": [
    "# Micro Credit Defaulter Project"
   ]
  },
  {
   "cell_type": "markdown",
   "metadata": {
    "id": "4eVTtVRsRwNb"
   },
   "source": [
    "## Description"
   ]
  },
  {
   "cell_type": "markdown",
   "metadata": {
    "id": "YsfFm4g_RYsH"
   },
   "source": [
    "A Microfinance Institution (MFI) is an organization that offers financial services to low income populations. MFS becomes very useful when targeting especially the unbanked poor families living in remote areas with not much sources of income. The Microfinance services (MFS) provided by MFI are Group Loans, Agricultural Loans, Individual Business Loans and so on. \n",
    "Many microfinance institutions (MFI), experts and donors are supporting the idea of using mobile financial services (MFS) which they feel are more convenient and efficient, and cost saving, than the traditional high-touch model used since long for the purpose of delivering microfinance services. Though, the MFI industry is primarily focusing on low income families and are very useful in such areas, the implementation of MFS has been uneven with both significant challenges and successes.\n",
    "\n",
    "Today, microfinance is widely accepted as a poverty-reduction tool, representing $70 billion in outstanding loans and a global outreach of 200 million clients.\n",
    "\n",
    "We are working with one such client that is in Telecom Industry. They are a fixed wireless telecommunications network provider. They have launched various products and have developed its business and organization based on the budget operator model, offering better products at Lower Prices to all value conscious customers through a strategy of disruptive innovation that focuses on the subscriber. \n",
    "\n",
    "They understand the importance of communication and how it affects a person’s life, thus, focusing on providing their services and products to low income families and poor customers that can help them in the need of hour. \n"
   ]
  },
  {
   "cell_type": "markdown",
   "metadata": {
    "id": "zi-YDiKBRg33"
   },
   "source": [
    "## Problem Statement"
   ]
  },
  {
   "cell_type": "markdown",
   "metadata": {
    "id": "n-piZK-6SI0S"
   },
   "source": [
    "Build a model which can be used to predict in terms of a probability for each loan transaction, whether the customer will be paying back the loaned amount within 5 days of insurance of loan. \n",
    "\n",
    "In this case, Label ‘1’ indicates that the loan has been payed i.e. Non- defaulter, while, Label ‘0’ indicates that the loan has not been payed i.e. defaulter.  "
   ]
  },
  {
   "cell_type": "markdown",
   "metadata": {
    "id": "xdk-juhrSORD"
   },
   "source": [
    "### Importing Required Libraries"
   ]
  },
  {
   "cell_type": "code",
   "execution_count": 4,
   "metadata": {
    "id": "6cHffvX_YYeM"
   },
   "outputs": [],
   "source": [
    "import pandas as pd\n",
    "import numpy as np\n",
    "import matplotlib.pyplot as plt\n",
    "import seaborn as sns\n",
    "import warnings\n",
    "warnings.filterwarnings('ignore')"
   ]
  },
  {
   "cell_type": "markdown",
   "metadata": {
    "id": "t_DL6qKSYYeO"
   },
   "source": [
    "#### Load the data file"
   ]
  },
  {
   "cell_type": "code",
   "execution_count": 5,
   "metadata": {
    "colab": {
     "base_uri": "https://localhost:8080/",
     "height": 326
    },
    "id": "RKpUAPQKYYeP",
    "outputId": "6ccd66e9-3d11-455a-baf2-0397141f58c9"
   },
   "outputs": [
    {
     "data": {
      "text/html": [
       "<div>\n",
       "<style scoped>\n",
       "    .dataframe tbody tr th:only-of-type {\n",
       "        vertical-align: middle;\n",
       "    }\n",
       "\n",
       "    .dataframe tbody tr th {\n",
       "        vertical-align: top;\n",
       "    }\n",
       "\n",
       "    .dataframe thead th {\n",
       "        text-align: right;\n",
       "    }\n",
       "</style>\n",
       "<table border=\"1\" class=\"dataframe\">\n",
       "  <thead>\n",
       "    <tr style=\"text-align: right;\">\n",
       "      <th></th>\n",
       "      <th>Unnamed: 0</th>\n",
       "      <th>label</th>\n",
       "      <th>msisdn</th>\n",
       "      <th>aon</th>\n",
       "      <th>daily_decr30</th>\n",
       "      <th>daily_decr90</th>\n",
       "      <th>rental30</th>\n",
       "      <th>rental90</th>\n",
       "      <th>last_rech_date_ma</th>\n",
       "      <th>last_rech_date_da</th>\n",
       "      <th>last_rech_amt_ma</th>\n",
       "      <th>cnt_ma_rech30</th>\n",
       "      <th>fr_ma_rech30</th>\n",
       "      <th>sumamnt_ma_rech30</th>\n",
       "      <th>medianamnt_ma_rech30</th>\n",
       "      <th>medianmarechprebal30</th>\n",
       "      <th>cnt_ma_rech90</th>\n",
       "      <th>fr_ma_rech90</th>\n",
       "      <th>sumamnt_ma_rech90</th>\n",
       "      <th>medianamnt_ma_rech90</th>\n",
       "      <th>medianmarechprebal90</th>\n",
       "      <th>cnt_da_rech30</th>\n",
       "      <th>fr_da_rech30</th>\n",
       "      <th>cnt_da_rech90</th>\n",
       "      <th>fr_da_rech90</th>\n",
       "      <th>cnt_loans30</th>\n",
       "      <th>amnt_loans30</th>\n",
       "      <th>maxamnt_loans30</th>\n",
       "      <th>medianamnt_loans30</th>\n",
       "      <th>cnt_loans90</th>\n",
       "      <th>amnt_loans90</th>\n",
       "      <th>maxamnt_loans90</th>\n",
       "      <th>medianamnt_loans90</th>\n",
       "      <th>payback30</th>\n",
       "      <th>payback90</th>\n",
       "      <th>pcircle</th>\n",
       "      <th>pdate</th>\n",
       "    </tr>\n",
       "  </thead>\n",
       "  <tbody>\n",
       "    <tr>\n",
       "      <th>0</th>\n",
       "      <td>1</td>\n",
       "      <td>0</td>\n",
       "      <td>21408I70789</td>\n",
       "      <td>272.0</td>\n",
       "      <td>3055.050000</td>\n",
       "      <td>3065.150000</td>\n",
       "      <td>220.13</td>\n",
       "      <td>260.13</td>\n",
       "      <td>2.0</td>\n",
       "      <td>0.0</td>\n",
       "      <td>1539</td>\n",
       "      <td>2</td>\n",
       "      <td>21.0</td>\n",
       "      <td>3078.0</td>\n",
       "      <td>1539.0</td>\n",
       "      <td>7.50</td>\n",
       "      <td>2</td>\n",
       "      <td>21</td>\n",
       "      <td>3078</td>\n",
       "      <td>1539.0</td>\n",
       "      <td>7.50</td>\n",
       "      <td>0.0</td>\n",
       "      <td>0.0</td>\n",
       "      <td>0</td>\n",
       "      <td>0</td>\n",
       "      <td>2</td>\n",
       "      <td>12</td>\n",
       "      <td>6.0</td>\n",
       "      <td>0.0</td>\n",
       "      <td>2.0</td>\n",
       "      <td>12</td>\n",
       "      <td>6</td>\n",
       "      <td>0.0</td>\n",
       "      <td>29.000000</td>\n",
       "      <td>29.000000</td>\n",
       "      <td>UPW</td>\n",
       "      <td>2016-07-20</td>\n",
       "    </tr>\n",
       "    <tr>\n",
       "      <th>1</th>\n",
       "      <td>2</td>\n",
       "      <td>1</td>\n",
       "      <td>76462I70374</td>\n",
       "      <td>712.0</td>\n",
       "      <td>12122.000000</td>\n",
       "      <td>12124.750000</td>\n",
       "      <td>3691.26</td>\n",
       "      <td>3691.26</td>\n",
       "      <td>20.0</td>\n",
       "      <td>0.0</td>\n",
       "      <td>5787</td>\n",
       "      <td>1</td>\n",
       "      <td>0.0</td>\n",
       "      <td>5787.0</td>\n",
       "      <td>5787.0</td>\n",
       "      <td>61.04</td>\n",
       "      <td>1</td>\n",
       "      <td>0</td>\n",
       "      <td>5787</td>\n",
       "      <td>5787.0</td>\n",
       "      <td>61.04</td>\n",
       "      <td>0.0</td>\n",
       "      <td>0.0</td>\n",
       "      <td>0</td>\n",
       "      <td>0</td>\n",
       "      <td>1</td>\n",
       "      <td>12</td>\n",
       "      <td>12.0</td>\n",
       "      <td>0.0</td>\n",
       "      <td>1.0</td>\n",
       "      <td>12</td>\n",
       "      <td>12</td>\n",
       "      <td>0.0</td>\n",
       "      <td>0.000000</td>\n",
       "      <td>0.000000</td>\n",
       "      <td>UPW</td>\n",
       "      <td>2016-08-10</td>\n",
       "    </tr>\n",
       "    <tr>\n",
       "      <th>2</th>\n",
       "      <td>3</td>\n",
       "      <td>1</td>\n",
       "      <td>17943I70372</td>\n",
       "      <td>535.0</td>\n",
       "      <td>1398.000000</td>\n",
       "      <td>1398.000000</td>\n",
       "      <td>900.13</td>\n",
       "      <td>900.13</td>\n",
       "      <td>3.0</td>\n",
       "      <td>0.0</td>\n",
       "      <td>1539</td>\n",
       "      <td>1</td>\n",
       "      <td>0.0</td>\n",
       "      <td>1539.0</td>\n",
       "      <td>1539.0</td>\n",
       "      <td>66.32</td>\n",
       "      <td>1</td>\n",
       "      <td>0</td>\n",
       "      <td>1539</td>\n",
       "      <td>1539.0</td>\n",
       "      <td>66.32</td>\n",
       "      <td>0.0</td>\n",
       "      <td>0.0</td>\n",
       "      <td>0</td>\n",
       "      <td>0</td>\n",
       "      <td>1</td>\n",
       "      <td>6</td>\n",
       "      <td>6.0</td>\n",
       "      <td>0.0</td>\n",
       "      <td>1.0</td>\n",
       "      <td>6</td>\n",
       "      <td>6</td>\n",
       "      <td>0.0</td>\n",
       "      <td>0.000000</td>\n",
       "      <td>0.000000</td>\n",
       "      <td>UPW</td>\n",
       "      <td>2016-08-19</td>\n",
       "    </tr>\n",
       "    <tr>\n",
       "      <th>3</th>\n",
       "      <td>4</td>\n",
       "      <td>1</td>\n",
       "      <td>55773I70781</td>\n",
       "      <td>241.0</td>\n",
       "      <td>21.228000</td>\n",
       "      <td>21.228000</td>\n",
       "      <td>159.42</td>\n",
       "      <td>159.42</td>\n",
       "      <td>41.0</td>\n",
       "      <td>0.0</td>\n",
       "      <td>947</td>\n",
       "      <td>0</td>\n",
       "      <td>0.0</td>\n",
       "      <td>0.0</td>\n",
       "      <td>0.0</td>\n",
       "      <td>0.00</td>\n",
       "      <td>1</td>\n",
       "      <td>0</td>\n",
       "      <td>947</td>\n",
       "      <td>947.0</td>\n",
       "      <td>2.50</td>\n",
       "      <td>0.0</td>\n",
       "      <td>0.0</td>\n",
       "      <td>0</td>\n",
       "      <td>0</td>\n",
       "      <td>2</td>\n",
       "      <td>12</td>\n",
       "      <td>6.0</td>\n",
       "      <td>0.0</td>\n",
       "      <td>2.0</td>\n",
       "      <td>12</td>\n",
       "      <td>6</td>\n",
       "      <td>0.0</td>\n",
       "      <td>0.000000</td>\n",
       "      <td>0.000000</td>\n",
       "      <td>UPW</td>\n",
       "      <td>2016-06-06</td>\n",
       "    </tr>\n",
       "    <tr>\n",
       "      <th>4</th>\n",
       "      <td>5</td>\n",
       "      <td>1</td>\n",
       "      <td>03813I82730</td>\n",
       "      <td>947.0</td>\n",
       "      <td>150.619333</td>\n",
       "      <td>150.619333</td>\n",
       "      <td>1098.90</td>\n",
       "      <td>1098.90</td>\n",
       "      <td>4.0</td>\n",
       "      <td>0.0</td>\n",
       "      <td>2309</td>\n",
       "      <td>7</td>\n",
       "      <td>2.0</td>\n",
       "      <td>20029.0</td>\n",
       "      <td>2309.0</td>\n",
       "      <td>29.00</td>\n",
       "      <td>8</td>\n",
       "      <td>2</td>\n",
       "      <td>23496</td>\n",
       "      <td>2888.0</td>\n",
       "      <td>35.00</td>\n",
       "      <td>0.0</td>\n",
       "      <td>0.0</td>\n",
       "      <td>0</td>\n",
       "      <td>0</td>\n",
       "      <td>7</td>\n",
       "      <td>42</td>\n",
       "      <td>6.0</td>\n",
       "      <td>0.0</td>\n",
       "      <td>7.0</td>\n",
       "      <td>42</td>\n",
       "      <td>6</td>\n",
       "      <td>0.0</td>\n",
       "      <td>2.333333</td>\n",
       "      <td>2.333333</td>\n",
       "      <td>UPW</td>\n",
       "      <td>2016-06-22</td>\n",
       "    </tr>\n",
       "  </tbody>\n",
       "</table>\n",
       "</div>"
      ],
      "text/plain": [
       "   Unnamed: 0  label       msisdn  ...  payback90  pcircle       pdate\n",
       "0           1      0  21408I70789  ...  29.000000      UPW  2016-07-20\n",
       "1           2      1  76462I70374  ...   0.000000      UPW  2016-08-10\n",
       "2           3      1  17943I70372  ...   0.000000      UPW  2016-08-19\n",
       "3           4      1  55773I70781  ...   0.000000      UPW  2016-06-06\n",
       "4           5      1  03813I82730  ...   2.333333      UPW  2016-06-22\n",
       "\n",
       "[5 rows x 37 columns]"
      ]
     },
     "execution_count": 5,
     "metadata": {
      "tags": []
     },
     "output_type": "execute_result"
    }
   ],
   "source": [
    "mc=pd.read_csv('Data file.csv')\n",
    "mc.head()"
   ]
  },
  {
   "cell_type": "code",
   "execution_count": 7,
   "metadata": {
    "colab": {
     "base_uri": "https://localhost:8080/"
    },
    "id": "E4AaQSf-YYeT",
    "outputId": "23178644-f382-476f-aa0d-f798ac928cde"
   },
   "outputs": [
    {
     "data": {
      "text/plain": [
       "Index(['Unnamed: 0', 'label', 'msisdn', 'aon', 'daily_decr30', 'daily_decr90',\n",
       "       'rental30', 'rental90', 'last_rech_date_ma', 'last_rech_date_da',\n",
       "       'last_rech_amt_ma', 'cnt_ma_rech30', 'fr_ma_rech30',\n",
       "       'sumamnt_ma_rech30', 'medianamnt_ma_rech30', 'medianmarechprebal30',\n",
       "       'cnt_ma_rech90', 'fr_ma_rech90', 'sumamnt_ma_rech90',\n",
       "       'medianamnt_ma_rech90', 'medianmarechprebal90', 'cnt_da_rech30',\n",
       "       'fr_da_rech30', 'cnt_da_rech90', 'fr_da_rech90', 'cnt_loans30',\n",
       "       'amnt_loans30', 'maxamnt_loans30', 'medianamnt_loans30', 'cnt_loans90',\n",
       "       'amnt_loans90', 'maxamnt_loans90', 'medianamnt_loans90', 'payback30',\n",
       "       'payback90', 'pcircle', 'pdate'],\n",
       "      dtype='object')"
      ]
     },
     "execution_count": 7,
     "metadata": {
      "tags": []
     },
     "output_type": "execute_result"
    }
   ],
   "source": [
    "mc.columns"
   ]
  },
  {
   "cell_type": "markdown",
   "metadata": {
    "id": "dYX6w9rsOIHS"
   },
   "source": [
    "#### Column Names Description"
   ]
  },
  {
   "cell_type": "markdown",
   "metadata": {
    "id": "rVlq7tjIO_KO"
   },
   "source": [
    "label: Flag indicating whether the user paid back the credit amount within 5 days of issuing the loan{1:success, 0:failure}\n",
    "\n",
    "msisdn: mobile number of user\n",
    "\n",
    "aon: age on cellular network in days\n",
    "\n",
    "daily_decr30: Daily amount spent from main account, averaged over last 30 days (in Indonesian Rupiah)\n",
    "\n",
    "daily_decr90: Daily amount spent from main account, averaged over last 90 days (in Indonesian Rupiah)\n",
    "\n",
    "rental30: Average main account balance over last 30 days\n",
    "\n",
    "rental90: Average main account balance over last 90 days\n",
    "\n",
    "last_rech_date_ma: Number of days till last recharge of main account\n",
    "\n",
    "last_rech_date_da: Number of days till last recharge of data account\n",
    "\n",
    "last_rech_amt_ma: Amount of last recharge of main account (in Indonesian Rupiah)\n",
    "\n",
    "cnt_ma_rech30: Number of times main account got recharged in last 30 days\n",
    "\n",
    "fr_ma_rech30: Frequency of main account recharged in last 30 days\n",
    "\n",
    "sumamnt_ma_rech30: Total amount of recharge in main account over last 30 days (in Indonesian Rupiah)\n",
    "\n",
    "medianamnt_ma_rech30: Median of amount of recharges done in main account over last 30 days at user level (in Indonesian Rupiah)\n",
    "\n",
    "medianmarechprebal30: Median of main account balance just before recharge in last 30 days at user level (in Indonesian Rupiah)\n",
    "\n",
    "cnt_ma_rech90: Number of times main account got recharged in last 90 days\n",
    "\n",
    "fr_ma_rech90: Frequency of main account recharged in last 90 days\n",
    "\n",
    "sumamnt_ma_rech90: Total amount of recharge in main account over last 90 days (in Indonasian Rupiah)\n",
    "\n",
    "medianamnt_ma_rech90: Median of amount of recharges done in main account over last 90 days at user level (in Indonasian Rupiah)\n",
    "\n",
    "medianmarechprebal90: Median of main account balance just before recharge in last 90 days at user level (in Indonasian Rupiah)\n",
    "\n",
    "cnt_da_rech30: Number of times data account got recharged in last 30 days\n",
    "\n",
    "fr_da_rech30: Frequency of data account recharged in last 30 days\n",
    "\n",
    "cnt_da_rech90: Number of times data account got recharged in last 90 days\n",
    "\n",
    "fr_da_rech90: Frequency of data account recharged in last 90 days\n",
    "\n",
    "cnt_loans30: Number of loans taken by user in last 30 days\n",
    "\n",
    "amnt_loans30: Total amount of loans taken by user in last 30 days\n",
    "\n",
    "maxamnt_loans30: maximum amount of loan taken by the user in last 30 days\n",
    "\n",
    "medianamnt_loans30: Median of amounts of loan taken by the user in last 30 days\n",
    "\n",
    "cnt_loans90: Number of loans taken by user in last 90 days\n",
    "\n",
    "amnt_loans90: Total amount of loans taken by user in last 90 days\n",
    "\n",
    "maxamnt_loans90: maximum amount of loan taken by the user in last 90 days\n",
    "\n",
    "medianamnt_loans90: Median of amounts of loan taken by the user in last 90 days\n",
    "\n",
    "payback30: Average payback time in days over last 30 days\n",
    "\n",
    "payback90: Average payback time in days over last 90 days\n",
    "\n",
    "pcircle: telecom circle\n",
    "\n",
    "pdate: date"
   ]
  },
  {
   "cell_type": "code",
   "execution_count": 8,
   "metadata": {
    "colab": {
     "base_uri": "https://localhost:8080/"
    },
    "id": "tBxBlL10YYeU",
    "outputId": "b7612160-2155-44e9-c092-a57284b7f5ec"
   },
   "outputs": [
    {
     "data": {
      "text/plain": [
       "(209593, 37)"
      ]
     },
     "execution_count": 8,
     "metadata": {
      "tags": []
     },
     "output_type": "execute_result"
    }
   ],
   "source": [
    "mc.shape"
   ]
  },
  {
   "cell_type": "markdown",
   "metadata": {
    "id": "FQmAUiUpYYeV"
   },
   "source": [
    "There are 209593 rows and 37 columns including target column."
   ]
  },
  {
   "cell_type": "code",
   "execution_count": 9,
   "metadata": {
    "colab": {
     "base_uri": "https://localhost:8080/"
    },
    "id": "7ETQQwYJYYeW",
    "outputId": "2269ebf8-b56b-4f50-cf8a-dc8d251c7b19"
   },
   "outputs": [
    {
     "name": "stdout",
     "output_type": "stream",
     "text": [
      "<class 'pandas.core.frame.DataFrame'>\n",
      "RangeIndex: 209593 entries, 0 to 209592\n",
      "Data columns (total 37 columns):\n",
      " #   Column                Non-Null Count   Dtype  \n",
      "---  ------                --------------   -----  \n",
      " 0   Unnamed: 0            209593 non-null  int64  \n",
      " 1   label                 209593 non-null  int64  \n",
      " 2   msisdn                209593 non-null  object \n",
      " 3   aon                   209593 non-null  float64\n",
      " 4   daily_decr30          209593 non-null  float64\n",
      " 5   daily_decr90          209593 non-null  float64\n",
      " 6   rental30              209593 non-null  float64\n",
      " 7   rental90              209593 non-null  float64\n",
      " 8   last_rech_date_ma     209593 non-null  float64\n",
      " 9   last_rech_date_da     209593 non-null  float64\n",
      " 10  last_rech_amt_ma      209593 non-null  int64  \n",
      " 11  cnt_ma_rech30         209593 non-null  int64  \n",
      " 12  fr_ma_rech30          209593 non-null  float64\n",
      " 13  sumamnt_ma_rech30     209593 non-null  float64\n",
      " 14  medianamnt_ma_rech30  209593 non-null  float64\n",
      " 15  medianmarechprebal30  209593 non-null  float64\n",
      " 16  cnt_ma_rech90         209593 non-null  int64  \n",
      " 17  fr_ma_rech90          209593 non-null  int64  \n",
      " 18  sumamnt_ma_rech90     209593 non-null  int64  \n",
      " 19  medianamnt_ma_rech90  209593 non-null  float64\n",
      " 20  medianmarechprebal90  209593 non-null  float64\n",
      " 21  cnt_da_rech30         209593 non-null  float64\n",
      " 22  fr_da_rech30          209593 non-null  float64\n",
      " 23  cnt_da_rech90         209593 non-null  int64  \n",
      " 24  fr_da_rech90          209593 non-null  int64  \n",
      " 25  cnt_loans30           209593 non-null  int64  \n",
      " 26  amnt_loans30          209593 non-null  int64  \n",
      " 27  maxamnt_loans30       209593 non-null  float64\n",
      " 28  medianamnt_loans30    209593 non-null  float64\n",
      " 29  cnt_loans90           209593 non-null  float64\n",
      " 30  amnt_loans90          209593 non-null  int64  \n",
      " 31  maxamnt_loans90       209593 non-null  int64  \n",
      " 32  medianamnt_loans90    209593 non-null  float64\n",
      " 33  payback30             209593 non-null  float64\n",
      " 34  payback90             209593 non-null  float64\n",
      " 35  pcircle               209593 non-null  object \n",
      " 36  pdate                 209593 non-null  object \n",
      "dtypes: float64(21), int64(13), object(3)\n",
      "memory usage: 59.2+ MB\n"
     ]
    }
   ],
   "source": [
    "mc.info()"
   ]
  },
  {
   "cell_type": "code",
   "execution_count": 10,
   "metadata": {
    "colab": {
     "base_uri": "https://localhost:8080/",
     "height": 317
    },
    "id": "ev-Zio04YYeX",
    "outputId": "15324e4c-930e-4275-86bc-ee14fb9e8a55"
   },
   "outputs": [
    {
     "data": {
      "text/html": [
       "<div>\n",
       "<style scoped>\n",
       "    .dataframe tbody tr th:only-of-type {\n",
       "        vertical-align: middle;\n",
       "    }\n",
       "\n",
       "    .dataframe tbody tr th {\n",
       "        vertical-align: top;\n",
       "    }\n",
       "\n",
       "    .dataframe thead th {\n",
       "        text-align: right;\n",
       "    }\n",
       "</style>\n",
       "<table border=\"1\" class=\"dataframe\">\n",
       "  <thead>\n",
       "    <tr style=\"text-align: right;\">\n",
       "      <th></th>\n",
       "      <th>Unnamed: 0</th>\n",
       "      <th>label</th>\n",
       "      <th>aon</th>\n",
       "      <th>daily_decr30</th>\n",
       "      <th>daily_decr90</th>\n",
       "      <th>rental30</th>\n",
       "      <th>rental90</th>\n",
       "      <th>last_rech_date_ma</th>\n",
       "      <th>last_rech_date_da</th>\n",
       "      <th>last_rech_amt_ma</th>\n",
       "      <th>cnt_ma_rech30</th>\n",
       "      <th>fr_ma_rech30</th>\n",
       "      <th>sumamnt_ma_rech30</th>\n",
       "      <th>medianamnt_ma_rech30</th>\n",
       "      <th>medianmarechprebal30</th>\n",
       "      <th>cnt_ma_rech90</th>\n",
       "      <th>fr_ma_rech90</th>\n",
       "      <th>sumamnt_ma_rech90</th>\n",
       "      <th>medianamnt_ma_rech90</th>\n",
       "      <th>medianmarechprebal90</th>\n",
       "      <th>cnt_da_rech30</th>\n",
       "      <th>fr_da_rech30</th>\n",
       "      <th>cnt_da_rech90</th>\n",
       "      <th>fr_da_rech90</th>\n",
       "      <th>cnt_loans30</th>\n",
       "      <th>amnt_loans30</th>\n",
       "      <th>maxamnt_loans30</th>\n",
       "      <th>medianamnt_loans30</th>\n",
       "      <th>cnt_loans90</th>\n",
       "      <th>amnt_loans90</th>\n",
       "      <th>maxamnt_loans90</th>\n",
       "      <th>medianamnt_loans90</th>\n",
       "      <th>payback30</th>\n",
       "      <th>payback90</th>\n",
       "    </tr>\n",
       "  </thead>\n",
       "  <tbody>\n",
       "    <tr>\n",
       "      <th>count</th>\n",
       "      <td>209593.000000</td>\n",
       "      <td>209593.000000</td>\n",
       "      <td>209593.000000</td>\n",
       "      <td>209593.000000</td>\n",
       "      <td>209593.000000</td>\n",
       "      <td>209593.000000</td>\n",
       "      <td>209593.000000</td>\n",
       "      <td>209593.000000</td>\n",
       "      <td>209593.000000</td>\n",
       "      <td>209593.000000</td>\n",
       "      <td>209593.000000</td>\n",
       "      <td>209593.000000</td>\n",
       "      <td>209593.000000</td>\n",
       "      <td>209593.000000</td>\n",
       "      <td>209593.000000</td>\n",
       "      <td>209593.00000</td>\n",
       "      <td>209593.000000</td>\n",
       "      <td>209593.000000</td>\n",
       "      <td>209593.000000</td>\n",
       "      <td>209593.000000</td>\n",
       "      <td>209593.000000</td>\n",
       "      <td>209593.000000</td>\n",
       "      <td>209593.000000</td>\n",
       "      <td>209593.000000</td>\n",
       "      <td>209593.000000</td>\n",
       "      <td>209593.000000</td>\n",
       "      <td>209593.000000</td>\n",
       "      <td>209593.000000</td>\n",
       "      <td>209593.000000</td>\n",
       "      <td>209593.000000</td>\n",
       "      <td>209593.000000</td>\n",
       "      <td>209593.000000</td>\n",
       "      <td>209593.000000</td>\n",
       "      <td>209593.000000</td>\n",
       "    </tr>\n",
       "    <tr>\n",
       "      <th>mean</th>\n",
       "      <td>104797.000000</td>\n",
       "      <td>0.875177</td>\n",
       "      <td>8112.343445</td>\n",
       "      <td>5381.402289</td>\n",
       "      <td>6082.515068</td>\n",
       "      <td>2692.581910</td>\n",
       "      <td>3483.406534</td>\n",
       "      <td>3755.847800</td>\n",
       "      <td>3712.202921</td>\n",
       "      <td>2064.452797</td>\n",
       "      <td>3.978057</td>\n",
       "      <td>3737.355121</td>\n",
       "      <td>7704.501157</td>\n",
       "      <td>1812.817952</td>\n",
       "      <td>3851.927942</td>\n",
       "      <td>6.31543</td>\n",
       "      <td>7.716780</td>\n",
       "      <td>12396.218352</td>\n",
       "      <td>1864.595821</td>\n",
       "      <td>92.025541</td>\n",
       "      <td>262.578110</td>\n",
       "      <td>3749.494447</td>\n",
       "      <td>0.041495</td>\n",
       "      <td>0.045712</td>\n",
       "      <td>2.758981</td>\n",
       "      <td>17.952021</td>\n",
       "      <td>274.658747</td>\n",
       "      <td>0.054029</td>\n",
       "      <td>18.520919</td>\n",
       "      <td>23.645398</td>\n",
       "      <td>6.703134</td>\n",
       "      <td>0.046077</td>\n",
       "      <td>3.398826</td>\n",
       "      <td>4.321485</td>\n",
       "    </tr>\n",
       "    <tr>\n",
       "      <th>std</th>\n",
       "      <td>60504.431823</td>\n",
       "      <td>0.330519</td>\n",
       "      <td>75696.082531</td>\n",
       "      <td>9220.623400</td>\n",
       "      <td>10918.812767</td>\n",
       "      <td>4308.586781</td>\n",
       "      <td>5770.461279</td>\n",
       "      <td>53905.892230</td>\n",
       "      <td>53374.833430</td>\n",
       "      <td>2370.786034</td>\n",
       "      <td>4.256090</td>\n",
       "      <td>53643.625172</td>\n",
       "      <td>10139.621714</td>\n",
       "      <td>2070.864620</td>\n",
       "      <td>54006.374433</td>\n",
       "      <td>7.19347</td>\n",
       "      <td>12.590251</td>\n",
       "      <td>16857.793882</td>\n",
       "      <td>2081.680664</td>\n",
       "      <td>369.215658</td>\n",
       "      <td>4183.897978</td>\n",
       "      <td>53885.414979</td>\n",
       "      <td>0.397556</td>\n",
       "      <td>0.951386</td>\n",
       "      <td>2.554502</td>\n",
       "      <td>17.379741</td>\n",
       "      <td>4245.264648</td>\n",
       "      <td>0.218039</td>\n",
       "      <td>224.797423</td>\n",
       "      <td>26.469861</td>\n",
       "      <td>2.103864</td>\n",
       "      <td>0.200692</td>\n",
       "      <td>8.813729</td>\n",
       "      <td>10.308108</td>\n",
       "    </tr>\n",
       "    <tr>\n",
       "      <th>min</th>\n",
       "      <td>1.000000</td>\n",
       "      <td>0.000000</td>\n",
       "      <td>-48.000000</td>\n",
       "      <td>-93.012667</td>\n",
       "      <td>-93.012667</td>\n",
       "      <td>-23737.140000</td>\n",
       "      <td>-24720.580000</td>\n",
       "      <td>-29.000000</td>\n",
       "      <td>-29.000000</td>\n",
       "      <td>0.000000</td>\n",
       "      <td>0.000000</td>\n",
       "      <td>0.000000</td>\n",
       "      <td>0.000000</td>\n",
       "      <td>0.000000</td>\n",
       "      <td>-200.000000</td>\n",
       "      <td>0.00000</td>\n",
       "      <td>0.000000</td>\n",
       "      <td>0.000000</td>\n",
       "      <td>0.000000</td>\n",
       "      <td>-200.000000</td>\n",
       "      <td>0.000000</td>\n",
       "      <td>0.000000</td>\n",
       "      <td>0.000000</td>\n",
       "      <td>0.000000</td>\n",
       "      <td>0.000000</td>\n",
       "      <td>0.000000</td>\n",
       "      <td>0.000000</td>\n",
       "      <td>0.000000</td>\n",
       "      <td>0.000000</td>\n",
       "      <td>0.000000</td>\n",
       "      <td>0.000000</td>\n",
       "      <td>0.000000</td>\n",
       "      <td>0.000000</td>\n",
       "      <td>0.000000</td>\n",
       "    </tr>\n",
       "    <tr>\n",
       "      <th>25%</th>\n",
       "      <td>52399.000000</td>\n",
       "      <td>1.000000</td>\n",
       "      <td>246.000000</td>\n",
       "      <td>42.440000</td>\n",
       "      <td>42.692000</td>\n",
       "      <td>280.420000</td>\n",
       "      <td>300.260000</td>\n",
       "      <td>1.000000</td>\n",
       "      <td>0.000000</td>\n",
       "      <td>770.000000</td>\n",
       "      <td>1.000000</td>\n",
       "      <td>0.000000</td>\n",
       "      <td>1540.000000</td>\n",
       "      <td>770.000000</td>\n",
       "      <td>11.000000</td>\n",
       "      <td>2.00000</td>\n",
       "      <td>0.000000</td>\n",
       "      <td>2317.000000</td>\n",
       "      <td>773.000000</td>\n",
       "      <td>14.600000</td>\n",
       "      <td>0.000000</td>\n",
       "      <td>0.000000</td>\n",
       "      <td>0.000000</td>\n",
       "      <td>0.000000</td>\n",
       "      <td>1.000000</td>\n",
       "      <td>6.000000</td>\n",
       "      <td>6.000000</td>\n",
       "      <td>0.000000</td>\n",
       "      <td>1.000000</td>\n",
       "      <td>6.000000</td>\n",
       "      <td>6.000000</td>\n",
       "      <td>0.000000</td>\n",
       "      <td>0.000000</td>\n",
       "      <td>0.000000</td>\n",
       "    </tr>\n",
       "    <tr>\n",
       "      <th>50%</th>\n",
       "      <td>104797.000000</td>\n",
       "      <td>1.000000</td>\n",
       "      <td>527.000000</td>\n",
       "      <td>1469.175667</td>\n",
       "      <td>1500.000000</td>\n",
       "      <td>1083.570000</td>\n",
       "      <td>1334.000000</td>\n",
       "      <td>3.000000</td>\n",
       "      <td>0.000000</td>\n",
       "      <td>1539.000000</td>\n",
       "      <td>3.000000</td>\n",
       "      <td>2.000000</td>\n",
       "      <td>4628.000000</td>\n",
       "      <td>1539.000000</td>\n",
       "      <td>33.900000</td>\n",
       "      <td>4.00000</td>\n",
       "      <td>2.000000</td>\n",
       "      <td>7226.000000</td>\n",
       "      <td>1539.000000</td>\n",
       "      <td>36.000000</td>\n",
       "      <td>0.000000</td>\n",
       "      <td>0.000000</td>\n",
       "      <td>0.000000</td>\n",
       "      <td>0.000000</td>\n",
       "      <td>2.000000</td>\n",
       "      <td>12.000000</td>\n",
       "      <td>6.000000</td>\n",
       "      <td>0.000000</td>\n",
       "      <td>2.000000</td>\n",
       "      <td>12.000000</td>\n",
       "      <td>6.000000</td>\n",
       "      <td>0.000000</td>\n",
       "      <td>0.000000</td>\n",
       "      <td>1.666667</td>\n",
       "    </tr>\n",
       "    <tr>\n",
       "      <th>75%</th>\n",
       "      <td>157195.000000</td>\n",
       "      <td>1.000000</td>\n",
       "      <td>982.000000</td>\n",
       "      <td>7244.000000</td>\n",
       "      <td>7802.790000</td>\n",
       "      <td>3356.940000</td>\n",
       "      <td>4201.790000</td>\n",
       "      <td>7.000000</td>\n",
       "      <td>0.000000</td>\n",
       "      <td>2309.000000</td>\n",
       "      <td>5.000000</td>\n",
       "      <td>6.000000</td>\n",
       "      <td>10010.000000</td>\n",
       "      <td>1924.000000</td>\n",
       "      <td>83.000000</td>\n",
       "      <td>8.00000</td>\n",
       "      <td>8.000000</td>\n",
       "      <td>16000.000000</td>\n",
       "      <td>1924.000000</td>\n",
       "      <td>79.310000</td>\n",
       "      <td>0.000000</td>\n",
       "      <td>0.000000</td>\n",
       "      <td>0.000000</td>\n",
       "      <td>0.000000</td>\n",
       "      <td>4.000000</td>\n",
       "      <td>24.000000</td>\n",
       "      <td>6.000000</td>\n",
       "      <td>0.000000</td>\n",
       "      <td>5.000000</td>\n",
       "      <td>30.000000</td>\n",
       "      <td>6.000000</td>\n",
       "      <td>0.000000</td>\n",
       "      <td>3.750000</td>\n",
       "      <td>4.500000</td>\n",
       "    </tr>\n",
       "    <tr>\n",
       "      <th>max</th>\n",
       "      <td>209593.000000</td>\n",
       "      <td>1.000000</td>\n",
       "      <td>999860.755168</td>\n",
       "      <td>265926.000000</td>\n",
       "      <td>320630.000000</td>\n",
       "      <td>198926.110000</td>\n",
       "      <td>200148.110000</td>\n",
       "      <td>998650.377733</td>\n",
       "      <td>999171.809410</td>\n",
       "      <td>55000.000000</td>\n",
       "      <td>203.000000</td>\n",
       "      <td>999606.368132</td>\n",
       "      <td>810096.000000</td>\n",
       "      <td>55000.000000</td>\n",
       "      <td>999479.419319</td>\n",
       "      <td>336.00000</td>\n",
       "      <td>88.000000</td>\n",
       "      <td>953036.000000</td>\n",
       "      <td>55000.000000</td>\n",
       "      <td>41456.500000</td>\n",
       "      <td>99914.441420</td>\n",
       "      <td>999809.240107</td>\n",
       "      <td>38.000000</td>\n",
       "      <td>64.000000</td>\n",
       "      <td>50.000000</td>\n",
       "      <td>306.000000</td>\n",
       "      <td>99864.560864</td>\n",
       "      <td>3.000000</td>\n",
       "      <td>4997.517944</td>\n",
       "      <td>438.000000</td>\n",
       "      <td>12.000000</td>\n",
       "      <td>3.000000</td>\n",
       "      <td>171.500000</td>\n",
       "      <td>171.500000</td>\n",
       "    </tr>\n",
       "  </tbody>\n",
       "</table>\n",
       "</div>"
      ],
      "text/plain": [
       "          Unnamed: 0          label  ...      payback30      payback90\n",
       "count  209593.000000  209593.000000  ...  209593.000000  209593.000000\n",
       "mean   104797.000000       0.875177  ...       3.398826       4.321485\n",
       "std     60504.431823       0.330519  ...       8.813729      10.308108\n",
       "min         1.000000       0.000000  ...       0.000000       0.000000\n",
       "25%     52399.000000       1.000000  ...       0.000000       0.000000\n",
       "50%    104797.000000       1.000000  ...       0.000000       1.666667\n",
       "75%    157195.000000       1.000000  ...       3.750000       4.500000\n",
       "max    209593.000000       1.000000  ...     171.500000     171.500000\n",
       "\n",
       "[8 rows x 34 columns]"
      ]
     },
     "execution_count": 10,
     "metadata": {
      "tags": []
     },
     "output_type": "execute_result"
    }
   ],
   "source": [
    "mc.describe()"
   ]
  },
  {
   "cell_type": "code",
   "execution_count": 11,
   "metadata": {
    "colab": {
     "base_uri": "https://localhost:8080/"
    },
    "id": "ZilpmPDIYYeY",
    "outputId": "8ce4f3e2-fa13-4117-dc0c-debc807314aa"
   },
   "outputs": [
    {
     "data": {
      "text/plain": [
       "Unnamed: 0              0\n",
       "label                   0\n",
       "msisdn                  0\n",
       "aon                     0\n",
       "daily_decr30            0\n",
       "daily_decr90            0\n",
       "rental30                0\n",
       "rental90                0\n",
       "last_rech_date_ma       0\n",
       "last_rech_date_da       0\n",
       "last_rech_amt_ma        0\n",
       "cnt_ma_rech30           0\n",
       "fr_ma_rech30            0\n",
       "sumamnt_ma_rech30       0\n",
       "medianamnt_ma_rech30    0\n",
       "medianmarechprebal30    0\n",
       "cnt_ma_rech90           0\n",
       "fr_ma_rech90            0\n",
       "sumamnt_ma_rech90       0\n",
       "medianamnt_ma_rech90    0\n",
       "medianmarechprebal90    0\n",
       "cnt_da_rech30           0\n",
       "fr_da_rech30            0\n",
       "cnt_da_rech90           0\n",
       "fr_da_rech90            0\n",
       "cnt_loans30             0\n",
       "amnt_loans30            0\n",
       "maxamnt_loans30         0\n",
       "medianamnt_loans30      0\n",
       "cnt_loans90             0\n",
       "amnt_loans90            0\n",
       "maxamnt_loans90         0\n",
       "medianamnt_loans90      0\n",
       "payback30               0\n",
       "payback90               0\n",
       "pcircle                 0\n",
       "pdate                   0\n",
       "dtype: int64"
      ]
     },
     "execution_count": 11,
     "metadata": {
      "tags": []
     },
     "output_type": "execute_result"
    }
   ],
   "source": [
    "mc.isnull().sum()"
   ]
  },
  {
   "cell_type": "markdown",
   "metadata": {
    "id": "rQjl9AO5YYeZ"
   },
   "source": [
    "There are no null values in the above datafile."
   ]
  },
  {
   "cell_type": "code",
   "execution_count": 12,
   "metadata": {
    "colab": {
     "base_uri": "https://localhost:8080/"
    },
    "id": "1JsRiO9vYYea",
    "outputId": "bba467b2-736f-4a16-b7a8-7cf121a79b09"
   },
   "outputs": [
    {
     "data": {
      "text/plain": [
       "array([0, 1])"
      ]
     },
     "execution_count": 12,
     "metadata": {
      "tags": []
     },
     "output_type": "execute_result"
    }
   ],
   "source": [
    "mc['label'].unique()"
   ]
  },
  {
   "cell_type": "code",
   "execution_count": 13,
   "metadata": {
    "colab": {
     "base_uri": "https://localhost:8080/"
    },
    "id": "yr8uft8HYYeb",
    "outputId": "102fd15f-e6b4-4987-d984-aec628dbf884"
   },
   "outputs": [
    {
     "data": {
      "text/plain": [
       "1    183431\n",
       "0     26162\n",
       "Name: label, dtype: int64"
      ]
     },
     "execution_count": 13,
     "metadata": {
      "tags": []
     },
     "output_type": "execute_result"
    }
   ],
   "source": [
    "mc['label'].value_counts()"
   ]
  },
  {
   "cell_type": "code",
   "execution_count": 14,
   "metadata": {
    "colab": {
     "base_uri": "https://localhost:8080/",
     "height": 281
    },
    "id": "pM7zQp1VYYec",
    "outputId": "f4db4bac-8beb-45ec-85a7-43a6cb6ad8aa"
   },
   "outputs": [
    {
     "data": {
      "image/png": "[encoded data removed]",
      "text/plain": [
       "<Figure size 432x288 with 1 Axes>"
      ]
     },
     "metadata": {
      "needs_background": "light",
      "tags": []
     },
     "output_type": "display_data"
    }
   ],
   "source": [
    "mc['label'].hist(grid=True)\n",
    "plt.title(\"Defaulter VS Non-Defaulter\")\n",
    "plt.show()"
   ]
  },
  {
   "cell_type": "markdown",
   "metadata": {
    "id": "fkmNMd3MYYed"
   },
   "source": [
    "The data is imbalanced."
   ]
  },
  {
   "cell_type": "markdown",
   "metadata": {
    "id": "tcKN2a7OYYee"
   },
   "source": [
    "#### Removing columns which are not affect the target column"
   ]
  },
  {
   "cell_type": "code",
   "execution_count": 15,
   "metadata": {
    "id": "dS0mYcpSYYef"
   },
   "outputs": [],
   "source": [
    "mc.drop(['Unnamed: 0','msisdn','pdate','pcircle'],axis=1, inplace=True)"
   ]
  },
  {
   "cell_type": "code",
   "execution_count": 16,
   "metadata": {
    "colab": {
     "base_uri": "https://localhost:8080/"
    },
    "id": "C9zPb5pWYYef",
    "outputId": "b0ccd0b3-b424-4f4a-cc2c-5d1c7c26b93f"
   },
   "outputs": [
    {
     "data": {
      "text/plain": [
       "Index(['label', 'aon', 'daily_decr30', 'daily_decr90', 'rental30', 'rental90',\n",
       "       'last_rech_date_ma', 'last_rech_date_da', 'last_rech_amt_ma',\n",
       "       'cnt_ma_rech30', 'fr_ma_rech30', 'sumamnt_ma_rech30',\n",
       "       'medianamnt_ma_rech30', 'medianmarechprebal30', 'cnt_ma_rech90',\n",
       "       'fr_ma_rech90', 'sumamnt_ma_rech90', 'medianamnt_ma_rech90',\n",
       "       'medianmarechprebal90', 'cnt_da_rech30', 'fr_da_rech30',\n",
       "       'cnt_da_rech90', 'fr_da_rech90', 'cnt_loans30', 'amnt_loans30',\n",
       "       'maxamnt_loans30', 'medianamnt_loans30', 'cnt_loans90', 'amnt_loans90',\n",
       "       'maxamnt_loans90', 'medianamnt_loans90', 'payback30', 'payback90'],\n",
       "      dtype='object')"
      ]
     },
     "execution_count": 16,
     "metadata": {
      "tags": []
     },
     "output_type": "execute_result"
    }
   ],
   "source": [
    "mc.columns"
   ]
  },
  {
   "cell_type": "markdown",
   "metadata": {
    "id": "2zCPr7oRYYeh"
   },
   "source": [
    "### Checking Correlation"
   ]
  },
  {
   "cell_type": "code",
   "execution_count": 17,
   "metadata": {
    "colab": {
     "base_uri": "https://localhost:8080/",
     "height": 1000
    },
    "id": "gApuipnlYYeh",
    "outputId": "ac639e56-71c1-4891-9970-f6da612b3f84"
   },
   "outputs": [
    {
     "data": {
      "text/html": [
       "<div>\n",
       "<style scoped>\n",
       "    .dataframe tbody tr th:only-of-type {\n",
       "        vertical-align: middle;\n",
       "    }\n",
       "\n",
       "    .dataframe tbody tr th {\n",
       "        vertical-align: top;\n",
       "    }\n",
       "\n",
       "    .dataframe thead th {\n",
       "        text-align: right;\n",
       "    }\n",
       "</style>\n",
       "<table border=\"1\" class=\"dataframe\">\n",
       "  <thead>\n",
       "    <tr style=\"text-align: right;\">\n",
       "      <th></th>\n",
       "      <th>label</th>\n",
       "      <th>aon</th>\n",
       "      <th>daily_decr30</th>\n",
       "      <th>daily_decr90</th>\n",
       "      <th>rental30</th>\n",
       "      <th>rental90</th>\n",
       "      <th>last_rech_date_ma</th>\n",
       "      <th>last_rech_date_da</th>\n",
       "      <th>last_rech_amt_ma</th>\n",
       "      <th>cnt_ma_rech30</th>\n",
       "      <th>fr_ma_rech30</th>\n",
       "      <th>sumamnt_ma_rech30</th>\n",
       "      <th>medianamnt_ma_rech30</th>\n",
       "      <th>medianmarechprebal30</th>\n",
       "      <th>cnt_ma_rech90</th>\n",
       "      <th>fr_ma_rech90</th>\n",
       "      <th>sumamnt_ma_rech90</th>\n",
       "      <th>medianamnt_ma_rech90</th>\n",
       "      <th>medianmarechprebal90</th>\n",
       "      <th>cnt_da_rech30</th>\n",
       "      <th>fr_da_rech30</th>\n",
       "      <th>cnt_da_rech90</th>\n",
       "      <th>fr_da_rech90</th>\n",
       "      <th>cnt_loans30</th>\n",
       "      <th>amnt_loans30</th>\n",
       "      <th>maxamnt_loans30</th>\n",
       "      <th>medianamnt_loans30</th>\n",
       "      <th>cnt_loans90</th>\n",
       "      <th>amnt_loans90</th>\n",
       "      <th>maxamnt_loans90</th>\n",
       "      <th>medianamnt_loans90</th>\n",
       "      <th>payback30</th>\n",
       "      <th>payback90</th>\n",
       "    </tr>\n",
       "  </thead>\n",
       "  <tbody>\n",
       "    <tr>\n",
       "      <th>label</th>\n",
       "      <td>1.000000</td>\n",
       "      <td>-0.003785</td>\n",
       "      <td>0.168298</td>\n",
       "      <td>0.166150</td>\n",
       "      <td>0.058085</td>\n",
       "      <td>0.075521</td>\n",
       "      <td>0.003728</td>\n",
       "      <td>0.001711</td>\n",
       "      <td>0.131804</td>\n",
       "      <td>0.237331</td>\n",
       "      <td>0.001330</td>\n",
       "      <td>0.202828</td>\n",
       "      <td>0.141490</td>\n",
       "      <td>-0.004829</td>\n",
       "      <td>0.236392</td>\n",
       "      <td>0.084385</td>\n",
       "      <td>0.205793</td>\n",
       "      <td>0.120855</td>\n",
       "      <td>0.039300</td>\n",
       "      <td>0.003827</td>\n",
       "      <td>-0.000027</td>\n",
       "      <td>0.002999</td>\n",
       "      <td>-0.005418</td>\n",
       "      <td>0.196283</td>\n",
       "      <td>0.197272</td>\n",
       "      <td>0.000248</td>\n",
       "      <td>0.044589</td>\n",
       "      <td>0.004733</td>\n",
       "      <td>0.199788</td>\n",
       "      <td>0.084144</td>\n",
       "      <td>0.035747</td>\n",
       "      <td>0.048336</td>\n",
       "      <td>0.049183</td>\n",
       "    </tr>\n",
       "    <tr>\n",
       "      <th>aon</th>\n",
       "      <td>-0.003785</td>\n",
       "      <td>1.000000</td>\n",
       "      <td>0.001104</td>\n",
       "      <td>0.000374</td>\n",
       "      <td>-0.000960</td>\n",
       "      <td>-0.000790</td>\n",
       "      <td>0.001692</td>\n",
       "      <td>-0.001693</td>\n",
       "      <td>0.004256</td>\n",
       "      <td>-0.003148</td>\n",
       "      <td>-0.001163</td>\n",
       "      <td>0.000707</td>\n",
       "      <td>0.004306</td>\n",
       "      <td>0.003930</td>\n",
       "      <td>-0.002725</td>\n",
       "      <td>0.004401</td>\n",
       "      <td>0.001011</td>\n",
       "      <td>0.004909</td>\n",
       "      <td>-0.000859</td>\n",
       "      <td>0.001564</td>\n",
       "      <td>0.000892</td>\n",
       "      <td>0.001121</td>\n",
       "      <td>0.005395</td>\n",
       "      <td>-0.001826</td>\n",
       "      <td>-0.001726</td>\n",
       "      <td>-0.002764</td>\n",
       "      <td>0.004664</td>\n",
       "      <td>-0.000611</td>\n",
       "      <td>-0.002319</td>\n",
       "      <td>-0.001191</td>\n",
       "      <td>0.002771</td>\n",
       "      <td>0.001940</td>\n",
       "      <td>0.002203</td>\n",
       "    </tr>\n",
       "    <tr>\n",
       "      <th>daily_decr30</th>\n",
       "      <td>0.168298</td>\n",
       "      <td>0.001104</td>\n",
       "      <td>1.000000</td>\n",
       "      <td>0.977704</td>\n",
       "      <td>0.442066</td>\n",
       "      <td>0.458977</td>\n",
       "      <td>0.000487</td>\n",
       "      <td>-0.001636</td>\n",
       "      <td>0.275837</td>\n",
       "      <td>0.451385</td>\n",
       "      <td>-0.000577</td>\n",
       "      <td>0.636536</td>\n",
       "      <td>0.295356</td>\n",
       "      <td>-0.001153</td>\n",
       "      <td>0.587338</td>\n",
       "      <td>-0.078299</td>\n",
       "      <td>0.762981</td>\n",
       "      <td>0.257847</td>\n",
       "      <td>0.037495</td>\n",
       "      <td>0.000700</td>\n",
       "      <td>-0.001499</td>\n",
       "      <td>0.038814</td>\n",
       "      <td>0.020673</td>\n",
       "      <td>0.366116</td>\n",
       "      <td>0.471492</td>\n",
       "      <td>-0.000028</td>\n",
       "      <td>-0.011610</td>\n",
       "      <td>0.008962</td>\n",
       "      <td>0.563496</td>\n",
       "      <td>0.400199</td>\n",
       "      <td>-0.037305</td>\n",
       "      <td>0.026915</td>\n",
       "      <td>0.047175</td>\n",
       "    </tr>\n",
       "    <tr>\n",
       "      <th>daily_decr90</th>\n",
       "      <td>0.166150</td>\n",
       "      <td>0.000374</td>\n",
       "      <td>0.977704</td>\n",
       "      <td>1.000000</td>\n",
       "      <td>0.434685</td>\n",
       "      <td>0.471730</td>\n",
       "      <td>0.000908</td>\n",
       "      <td>-0.001886</td>\n",
       "      <td>0.264131</td>\n",
       "      <td>0.426707</td>\n",
       "      <td>-0.000343</td>\n",
       "      <td>0.603886</td>\n",
       "      <td>0.282960</td>\n",
       "      <td>-0.000746</td>\n",
       "      <td>0.593069</td>\n",
       "      <td>-0.079530</td>\n",
       "      <td>0.768817</td>\n",
       "      <td>0.250518</td>\n",
       "      <td>0.036382</td>\n",
       "      <td>0.000661</td>\n",
       "      <td>-0.001570</td>\n",
       "      <td>0.031155</td>\n",
       "      <td>0.016437</td>\n",
       "      <td>0.340387</td>\n",
       "      <td>0.447869</td>\n",
       "      <td>0.000025</td>\n",
       "      <td>-0.005591</td>\n",
       "      <td>0.009446</td>\n",
       "      <td>0.567204</td>\n",
       "      <td>0.397251</td>\n",
       "      <td>-0.034686</td>\n",
       "      <td>0.019400</td>\n",
       "      <td>0.040800</td>\n",
       "    </tr>\n",
       "    <tr>\n",
       "      <th>rental30</th>\n",
       "      <td>0.058085</td>\n",
       "      <td>-0.000960</td>\n",
       "      <td>0.442066</td>\n",
       "      <td>0.434685</td>\n",
       "      <td>1.000000</td>\n",
       "      <td>0.955237</td>\n",
       "      <td>-0.001095</td>\n",
       "      <td>0.003261</td>\n",
       "      <td>0.127271</td>\n",
       "      <td>0.233343</td>\n",
       "      <td>-0.001219</td>\n",
       "      <td>0.272649</td>\n",
       "      <td>0.129853</td>\n",
       "      <td>-0.001415</td>\n",
       "      <td>0.312118</td>\n",
       "      <td>-0.033530</td>\n",
       "      <td>0.342306</td>\n",
       "      <td>0.110356</td>\n",
       "      <td>0.027170</td>\n",
       "      <td>-0.001105</td>\n",
       "      <td>-0.002558</td>\n",
       "      <td>0.072255</td>\n",
       "      <td>0.046761</td>\n",
       "      <td>0.180203</td>\n",
       "      <td>0.233453</td>\n",
       "      <td>-0.000864</td>\n",
       "      <td>-0.016482</td>\n",
       "      <td>0.004012</td>\n",
       "      <td>0.298943</td>\n",
       "      <td>0.234211</td>\n",
       "      <td>-0.035489</td>\n",
       "      <td>0.072974</td>\n",
       "      <td>0.095147</td>\n",
       "    </tr>\n",
       "    <tr>\n",
       "      <th>rental90</th>\n",
       "      <td>0.075521</td>\n",
       "      <td>-0.000790</td>\n",
       "      <td>0.458977</td>\n",
       "      <td>0.471730</td>\n",
       "      <td>0.955237</td>\n",
       "      <td>1.000000</td>\n",
       "      <td>-0.001688</td>\n",
       "      <td>0.002794</td>\n",
       "      <td>0.121416</td>\n",
       "      <td>0.230260</td>\n",
       "      <td>-0.000503</td>\n",
       "      <td>0.259709</td>\n",
       "      <td>0.120242</td>\n",
       "      <td>-0.001237</td>\n",
       "      <td>0.345293</td>\n",
       "      <td>-0.036524</td>\n",
       "      <td>0.360601</td>\n",
       "      <td>0.103151</td>\n",
       "      <td>0.029547</td>\n",
       "      <td>-0.000548</td>\n",
       "      <td>-0.002345</td>\n",
       "      <td>0.056282</td>\n",
       "      <td>0.036886</td>\n",
       "      <td>0.171595</td>\n",
       "      <td>0.231906</td>\n",
       "      <td>-0.001411</td>\n",
       "      <td>-0.009467</td>\n",
       "      <td>0.005141</td>\n",
       "      <td>0.327436</td>\n",
       "      <td>0.251029</td>\n",
       "      <td>-0.034122</td>\n",
       "      <td>0.067110</td>\n",
       "      <td>0.099501</td>\n",
       "    </tr>\n",
       "    <tr>\n",
       "      <th>last_rech_date_ma</th>\n",
       "      <td>0.003728</td>\n",
       "      <td>0.001692</td>\n",
       "      <td>0.000487</td>\n",
       "      <td>0.000908</td>\n",
       "      <td>-0.001095</td>\n",
       "      <td>-0.001688</td>\n",
       "      <td>1.000000</td>\n",
       "      <td>0.001790</td>\n",
       "      <td>-0.000147</td>\n",
       "      <td>0.004311</td>\n",
       "      <td>-0.001629</td>\n",
       "      <td>0.002105</td>\n",
       "      <td>-0.001358</td>\n",
       "      <td>0.004071</td>\n",
       "      <td>0.004263</td>\n",
       "      <td>0.001414</td>\n",
       "      <td>0.002243</td>\n",
       "      <td>-0.000726</td>\n",
       "      <td>-0.001086</td>\n",
       "      <td>-0.003467</td>\n",
       "      <td>-0.003626</td>\n",
       "      <td>-0.003538</td>\n",
       "      <td>-0.002395</td>\n",
       "      <td>0.001193</td>\n",
       "      <td>0.000903</td>\n",
       "      <td>0.000928</td>\n",
       "      <td>0.001835</td>\n",
       "      <td>-0.000225</td>\n",
       "      <td>0.000870</td>\n",
       "      <td>-0.001123</td>\n",
       "      <td>0.002771</td>\n",
       "      <td>-0.002233</td>\n",
       "      <td>-0.001583</td>\n",
       "    </tr>\n",
       "    <tr>\n",
       "      <th>last_rech_date_da</th>\n",
       "      <td>0.001711</td>\n",
       "      <td>-0.001693</td>\n",
       "      <td>-0.001636</td>\n",
       "      <td>-0.001886</td>\n",
       "      <td>0.003261</td>\n",
       "      <td>0.002794</td>\n",
       "      <td>0.001790</td>\n",
       "      <td>1.000000</td>\n",
       "      <td>-0.000149</td>\n",
       "      <td>0.001549</td>\n",
       "      <td>0.001158</td>\n",
       "      <td>0.000046</td>\n",
       "      <td>0.001037</td>\n",
       "      <td>0.002849</td>\n",
       "      <td>0.001272</td>\n",
       "      <td>0.000798</td>\n",
       "      <td>-0.000414</td>\n",
       "      <td>0.000219</td>\n",
       "      <td>0.004158</td>\n",
       "      <td>-0.003628</td>\n",
       "      <td>-0.000074</td>\n",
       "      <td>-0.001859</td>\n",
       "      <td>-0.000203</td>\n",
       "      <td>0.000380</td>\n",
       "      <td>0.000536</td>\n",
       "      <td>0.000503</td>\n",
       "      <td>0.000061</td>\n",
       "      <td>-0.000972</td>\n",
       "      <td>0.000519</td>\n",
       "      <td>0.001524</td>\n",
       "      <td>-0.002239</td>\n",
       "      <td>0.000077</td>\n",
       "      <td>0.000417</td>\n",
       "    </tr>\n",
       "    <tr>\n",
       "      <th>last_rech_amt_ma</th>\n",
       "      <td>0.131804</td>\n",
       "      <td>0.004256</td>\n",
       "      <td>0.275837</td>\n",
       "      <td>0.264131</td>\n",
       "      <td>0.127271</td>\n",
       "      <td>0.121416</td>\n",
       "      <td>-0.000147</td>\n",
       "      <td>-0.000149</td>\n",
       "      <td>1.000000</td>\n",
       "      <td>-0.002662</td>\n",
       "      <td>0.002876</td>\n",
       "      <td>0.440821</td>\n",
       "      <td>0.794646</td>\n",
       "      <td>-0.002342</td>\n",
       "      <td>0.016707</td>\n",
       "      <td>0.106267</td>\n",
       "      <td>0.418735</td>\n",
       "      <td>0.818734</td>\n",
       "      <td>0.124646</td>\n",
       "      <td>-0.001837</td>\n",
       "      <td>-0.003230</td>\n",
       "      <td>0.014779</td>\n",
       "      <td>0.016042</td>\n",
       "      <td>-0.027612</td>\n",
       "      <td>0.008502</td>\n",
       "      <td>0.001000</td>\n",
       "      <td>0.028370</td>\n",
       "      <td>0.000093</td>\n",
       "      <td>0.014067</td>\n",
       "      <td>0.148460</td>\n",
       "      <td>0.021004</td>\n",
       "      <td>-0.027369</td>\n",
       "      <td>-0.014260</td>\n",
       "    </tr>\n",
       "    <tr>\n",
       "      <th>cnt_ma_rech30</th>\n",
       "      <td>0.237331</td>\n",
       "      <td>-0.003148</td>\n",
       "      <td>0.451385</td>\n",
       "      <td>0.426707</td>\n",
       "      <td>0.233343</td>\n",
       "      <td>0.230260</td>\n",
       "      <td>0.004311</td>\n",
       "      <td>0.001549</td>\n",
       "      <td>-0.002662</td>\n",
       "      <td>1.000000</td>\n",
       "      <td>0.001669</td>\n",
       "      <td>0.656986</td>\n",
       "      <td>-0.011792</td>\n",
       "      <td>0.000082</td>\n",
       "      <td>0.886433</td>\n",
       "      <td>-0.152759</td>\n",
       "      <td>0.584060</td>\n",
       "      <td>-0.051347</td>\n",
       "      <td>0.013463</td>\n",
       "      <td>0.002306</td>\n",
       "      <td>-0.002732</td>\n",
       "      <td>0.011981</td>\n",
       "      <td>0.006989</td>\n",
       "      <td>0.765802</td>\n",
       "      <td>0.752296</td>\n",
       "      <td>0.000109</td>\n",
       "      <td>-0.067011</td>\n",
       "      <td>0.014703</td>\n",
       "      <td>0.685257</td>\n",
       "      <td>0.174104</td>\n",
       "      <td>-0.071451</td>\n",
       "      <td>0.043617</td>\n",
       "      <td>0.017362</td>\n",
       "    </tr>\n",
       "    <tr>\n",
       "      <th>fr_ma_rech30</th>\n",
       "      <td>0.001330</td>\n",
       "      <td>-0.001163</td>\n",
       "      <td>-0.000577</td>\n",
       "      <td>-0.000343</td>\n",
       "      <td>-0.001219</td>\n",
       "      <td>-0.000503</td>\n",
       "      <td>-0.001629</td>\n",
       "      <td>0.001158</td>\n",
       "      <td>0.002876</td>\n",
       "      <td>0.001669</td>\n",
       "      <td>1.000000</td>\n",
       "      <td>0.000714</td>\n",
       "      <td>-0.000579</td>\n",
       "      <td>0.002613</td>\n",
       "      <td>0.001220</td>\n",
       "      <td>-0.001245</td>\n",
       "      <td>-0.000571</td>\n",
       "      <td>-0.001573</td>\n",
       "      <td>-0.002826</td>\n",
       "      <td>-0.000511</td>\n",
       "      <td>-0.001715</td>\n",
       "      <td>0.001574</td>\n",
       "      <td>-0.001925</td>\n",
       "      <td>0.002666</td>\n",
       "      <td>0.002470</td>\n",
       "      <td>-0.001100</td>\n",
       "      <td>-0.000331</td>\n",
       "      <td>0.003368</td>\n",
       "      <td>0.002634</td>\n",
       "      <td>-0.001890</td>\n",
       "      <td>-0.001292</td>\n",
       "      <td>0.001455</td>\n",
       "      <td>0.000998</td>\n",
       "    </tr>\n",
       "    <tr>\n",
       "      <th>sumamnt_ma_rech30</th>\n",
       "      <td>0.202828</td>\n",
       "      <td>0.000707</td>\n",
       "      <td>0.636536</td>\n",
       "      <td>0.603886</td>\n",
       "      <td>0.272649</td>\n",
       "      <td>0.259709</td>\n",
       "      <td>0.002105</td>\n",
       "      <td>0.000046</td>\n",
       "      <td>0.440821</td>\n",
       "      <td>0.656986</td>\n",
       "      <td>0.000714</td>\n",
       "      <td>1.000000</td>\n",
       "      <td>0.489200</td>\n",
       "      <td>0.000007</td>\n",
       "      <td>0.596478</td>\n",
       "      <td>-0.071089</td>\n",
       "      <td>0.889989</td>\n",
       "      <td>0.422009</td>\n",
       "      <td>0.090502</td>\n",
       "      <td>0.002537</td>\n",
       "      <td>-0.001578</td>\n",
       "      <td>0.019213</td>\n",
       "      <td>0.017255</td>\n",
       "      <td>0.491864</td>\n",
       "      <td>0.531079</td>\n",
       "      <td>0.001633</td>\n",
       "      <td>-0.034460</td>\n",
       "      <td>0.009419</td>\n",
       "      <td>0.484761</td>\n",
       "      <td>0.257705</td>\n",
       "      <td>-0.042244</td>\n",
       "      <td>0.000112</td>\n",
       "      <td>-0.012596</td>\n",
       "    </tr>\n",
       "    <tr>\n",
       "      <th>medianamnt_ma_rech30</th>\n",
       "      <td>0.141490</td>\n",
       "      <td>0.004306</td>\n",
       "      <td>0.295356</td>\n",
       "      <td>0.282960</td>\n",
       "      <td>0.129853</td>\n",
       "      <td>0.120242</td>\n",
       "      <td>-0.001358</td>\n",
       "      <td>0.001037</td>\n",
       "      <td>0.794646</td>\n",
       "      <td>-0.011792</td>\n",
       "      <td>-0.000579</td>\n",
       "      <td>0.489200</td>\n",
       "      <td>1.000000</td>\n",
       "      <td>-0.000737</td>\n",
       "      <td>0.005309</td>\n",
       "      <td>0.149655</td>\n",
       "      <td>0.449012</td>\n",
       "      <td>0.864846</td>\n",
       "      <td>0.156028</td>\n",
       "      <td>-0.000060</td>\n",
       "      <td>-0.001479</td>\n",
       "      <td>0.016727</td>\n",
       "      <td>0.013734</td>\n",
       "      <td>-0.029789</td>\n",
       "      <td>0.007125</td>\n",
       "      <td>0.001985</td>\n",
       "      <td>0.032477</td>\n",
       "      <td>-0.001143</td>\n",
       "      <td>0.014546</td>\n",
       "      <td>0.159613</td>\n",
       "      <td>0.022692</td>\n",
       "      <td>-0.018398</td>\n",
       "      <td>-0.002861</td>\n",
       "    </tr>\n",
       "    <tr>\n",
       "      <th>medianmarechprebal30</th>\n",
       "      <td>-0.004829</td>\n",
       "      <td>0.003930</td>\n",
       "      <td>-0.001153</td>\n",
       "      <td>-0.000746</td>\n",
       "      <td>-0.001415</td>\n",
       "      <td>-0.001237</td>\n",
       "      <td>0.004071</td>\n",
       "      <td>0.002849</td>\n",
       "      <td>-0.002342</td>\n",
       "      <td>0.000082</td>\n",
       "      <td>0.002613</td>\n",
       "      <td>0.000007</td>\n",
       "      <td>-0.000737</td>\n",
       "      <td>1.000000</td>\n",
       "      <td>0.000899</td>\n",
       "      <td>-0.000902</td>\n",
       "      <td>-0.000665</td>\n",
       "      <td>-0.001459</td>\n",
       "      <td>0.000529</td>\n",
       "      <td>-0.003404</td>\n",
       "      <td>0.000742</td>\n",
       "      <td>-0.003064</td>\n",
       "      <td>-0.001412</td>\n",
       "      <td>-0.000211</td>\n",
       "      <td>0.000134</td>\n",
       "      <td>-0.002176</td>\n",
       "      <td>-0.002289</td>\n",
       "      <td>0.001342</td>\n",
       "      <td>0.000736</td>\n",
       "      <td>-0.002141</td>\n",
       "      <td>-0.001927</td>\n",
       "      <td>0.001516</td>\n",
       "      <td>0.001811</td>\n",
       "    </tr>\n",
       "    <tr>\n",
       "      <th>cnt_ma_rech90</th>\n",
       "      <td>0.236392</td>\n",
       "      <td>-0.002725</td>\n",
       "      <td>0.587338</td>\n",
       "      <td>0.593069</td>\n",
       "      <td>0.312118</td>\n",
       "      <td>0.345293</td>\n",
       "      <td>0.004263</td>\n",
       "      <td>0.001272</td>\n",
       "      <td>0.016707</td>\n",
       "      <td>0.886433</td>\n",
       "      <td>0.001220</td>\n",
       "      <td>0.596478</td>\n",
       "      <td>0.005309</td>\n",
       "      <td>0.000899</td>\n",
       "      <td>1.000000</td>\n",
       "      <td>-0.149068</td>\n",
       "      <td>0.687054</td>\n",
       "      <td>-0.035497</td>\n",
       "      <td>0.015461</td>\n",
       "      <td>0.002895</td>\n",
       "      <td>-0.002795</td>\n",
       "      <td>0.004090</td>\n",
       "      <td>0.002865</td>\n",
       "      <td>0.689002</td>\n",
       "      <td>0.707558</td>\n",
       "      <td>-0.000573</td>\n",
       "      <td>-0.053637</td>\n",
       "      <td>0.015754</td>\n",
       "      <td>0.783419</td>\n",
       "      <td>0.244602</td>\n",
       "      <td>-0.072481</td>\n",
       "      <td>0.011943</td>\n",
       "      <td>-0.003141</td>\n",
       "    </tr>\n",
       "    <tr>\n",
       "      <th>fr_ma_rech90</th>\n",
       "      <td>0.084385</td>\n",
       "      <td>0.004401</td>\n",
       "      <td>-0.078299</td>\n",
       "      <td>-0.079530</td>\n",
       "      <td>-0.033530</td>\n",
       "      <td>-0.036524</td>\n",
       "      <td>0.001414</td>\n",
       "      <td>0.000798</td>\n",
       "      <td>0.106267</td>\n",
       "      <td>-0.152759</td>\n",
       "      <td>-0.001245</td>\n",
       "      <td>-0.071089</td>\n",
       "      <td>0.149655</td>\n",
       "      <td>-0.000902</td>\n",
       "      <td>-0.149068</td>\n",
       "      <td>1.000000</td>\n",
       "      <td>-0.065566</td>\n",
       "      <td>0.138503</td>\n",
       "      <td>0.004347</td>\n",
       "      <td>0.002230</td>\n",
       "      <td>-0.000081</td>\n",
       "      <td>-0.006727</td>\n",
       "      <td>-0.003822</td>\n",
       "      <td>-0.119083</td>\n",
       "      <td>-0.123664</td>\n",
       "      <td>0.001635</td>\n",
       "      <td>0.020626</td>\n",
       "      <td>-0.002756</td>\n",
       "      <td>-0.132035</td>\n",
       "      <td>-0.045780</td>\n",
       "      <td>0.016964</td>\n",
       "      <td>0.036817</td>\n",
       "      <td>0.077529</td>\n",
       "    </tr>\n",
       "    <tr>\n",
       "      <th>sumamnt_ma_rech90</th>\n",
       "      <td>0.205793</td>\n",
       "      <td>0.001011</td>\n",
       "      <td>0.762981</td>\n",
       "      <td>0.768817</td>\n",
       "      <td>0.342306</td>\n",
       "      <td>0.360601</td>\n",
       "      <td>0.002243</td>\n",
       "      <td>-0.000414</td>\n",
       "      <td>0.418735</td>\n",
       "      <td>0.584060</td>\n",
       "      <td>-0.000571</td>\n",
       "      <td>0.889989</td>\n",
       "      <td>0.449012</td>\n",
       "      <td>-0.000665</td>\n",
       "      <td>0.687054</td>\n",
       "      <td>-0.065566</td>\n",
       "      <td>1.000000</td>\n",
       "      <td>0.429274</td>\n",
       "      <td>0.096385</td>\n",
       "      <td>0.003002</td>\n",
       "      <td>-0.001566</td>\n",
       "      <td>0.012465</td>\n",
       "      <td>0.013136</td>\n",
       "      <td>0.442766</td>\n",
       "      <td>0.508599</td>\n",
       "      <td>0.001152</td>\n",
       "      <td>-0.022133</td>\n",
       "      <td>0.011306</td>\n",
       "      <td>0.562609</td>\n",
       "      <td>0.321739</td>\n",
       "      <td>-0.042386</td>\n",
       "      <td>-0.026409</td>\n",
       "      <td>-0.029997</td>\n",
       "    </tr>\n",
       "    <tr>\n",
       "      <th>medianamnt_ma_rech90</th>\n",
       "      <td>0.120855</td>\n",
       "      <td>0.004909</td>\n",
       "      <td>0.257847</td>\n",
       "      <td>0.250518</td>\n",
       "      <td>0.110356</td>\n",
       "      <td>0.103151</td>\n",
       "      <td>-0.000726</td>\n",
       "      <td>0.000219</td>\n",
       "      <td>0.818734</td>\n",
       "      <td>-0.051347</td>\n",
       "      <td>-0.001573</td>\n",
       "      <td>0.422009</td>\n",
       "      <td>0.864846</td>\n",
       "      <td>-0.001459</td>\n",
       "      <td>-0.035497</td>\n",
       "      <td>0.138503</td>\n",
       "      <td>0.429274</td>\n",
       "      <td>1.000000</td>\n",
       "      <td>0.209096</td>\n",
       "      <td>-0.002425</td>\n",
       "      <td>-0.002289</td>\n",
       "      <td>0.017533</td>\n",
       "      <td>0.019677</td>\n",
       "      <td>-0.060766</td>\n",
       "      <td>-0.025307</td>\n",
       "      <td>0.001016</td>\n",
       "      <td>0.036475</td>\n",
       "      <td>-0.000123</td>\n",
       "      <td>-0.023450</td>\n",
       "      <td>0.134139</td>\n",
       "      <td>0.031696</td>\n",
       "      <td>-0.035640</td>\n",
       "      <td>-0.023022</td>\n",
       "    </tr>\n",
       "    <tr>\n",
       "      <th>medianmarechprebal90</th>\n",
       "      <td>0.039300</td>\n",
       "      <td>-0.000859</td>\n",
       "      <td>0.037495</td>\n",
       "      <td>0.036382</td>\n",
       "      <td>0.027170</td>\n",
       "      <td>0.029547</td>\n",
       "      <td>-0.001086</td>\n",
       "      <td>0.004158</td>\n",
       "      <td>0.124646</td>\n",
       "      <td>0.013463</td>\n",
       "      <td>-0.002826</td>\n",
       "      <td>0.090502</td>\n",
       "      <td>0.156028</td>\n",
       "      <td>0.000529</td>\n",
       "      <td>0.015461</td>\n",
       "      <td>0.004347</td>\n",
       "      <td>0.096385</td>\n",
       "      <td>0.209096</td>\n",
       "      <td>1.000000</td>\n",
       "      <td>0.001130</td>\n",
       "      <td>-0.001893</td>\n",
       "      <td>0.007077</td>\n",
       "      <td>0.008492</td>\n",
       "      <td>-0.043381</td>\n",
       "      <td>-0.033878</td>\n",
       "      <td>0.001884</td>\n",
       "      <td>0.030534</td>\n",
       "      <td>-0.000926</td>\n",
       "      <td>-0.036412</td>\n",
       "      <td>0.027130</td>\n",
       "      <td>0.032453</td>\n",
       "      <td>-0.031760</td>\n",
       "      <td>-0.031210</td>\n",
       "    </tr>\n",
       "    <tr>\n",
       "      <th>cnt_da_rech30</th>\n",
       "      <td>0.003827</td>\n",
       "      <td>0.001564</td>\n",
       "      <td>0.000700</td>\n",
       "      <td>0.000661</td>\n",
       "      <td>-0.001105</td>\n",
       "      <td>-0.000548</td>\n",
       "      <td>-0.003467</td>\n",
       "      <td>-0.003628</td>\n",
       "      <td>-0.001837</td>\n",
       "      <td>0.002306</td>\n",
       "      <td>-0.000511</td>\n",
       "      <td>0.002537</td>\n",
       "      <td>-0.000060</td>\n",
       "      <td>-0.003404</td>\n",
       "      <td>0.002895</td>\n",
       "      <td>0.002230</td>\n",
       "      <td>0.003002</td>\n",
       "      <td>-0.002425</td>\n",
       "      <td>0.001130</td>\n",
       "      <td>1.000000</td>\n",
       "      <td>0.005203</td>\n",
       "      <td>0.002153</td>\n",
       "      <td>0.000088</td>\n",
       "      <td>0.001852</td>\n",
       "      <td>0.001487</td>\n",
       "      <td>-0.000394</td>\n",
       "      <td>0.000049</td>\n",
       "      <td>-0.001986</td>\n",
       "      <td>0.003369</td>\n",
       "      <td>-0.000647</td>\n",
       "      <td>-0.001365</td>\n",
       "      <td>-0.000471</td>\n",
       "      <td>0.000382</td>\n",
       "    </tr>\n",
       "    <tr>\n",
       "      <th>fr_da_rech30</th>\n",
       "      <td>-0.000027</td>\n",
       "      <td>0.000892</td>\n",
       "      <td>-0.001499</td>\n",
       "      <td>-0.001570</td>\n",
       "      <td>-0.002558</td>\n",
       "      <td>-0.002345</td>\n",
       "      <td>-0.003626</td>\n",
       "      <td>-0.000074</td>\n",
       "      <td>-0.003230</td>\n",
       "      <td>-0.002732</td>\n",
       "      <td>-0.001715</td>\n",
       "      <td>-0.001578</td>\n",
       "      <td>-0.001479</td>\n",
       "      <td>0.000742</td>\n",
       "      <td>-0.002795</td>\n",
       "      <td>-0.000081</td>\n",
       "      <td>-0.001566</td>\n",
       "      <td>-0.002289</td>\n",
       "      <td>-0.001893</td>\n",
       "      <td>0.005203</td>\n",
       "      <td>1.000000</td>\n",
       "      <td>0.000770</td>\n",
       "      <td>0.005505</td>\n",
       "      <td>-0.003212</td>\n",
       "      <td>-0.003395</td>\n",
       "      <td>-0.001070</td>\n",
       "      <td>-0.001141</td>\n",
       "      <td>-0.001623</td>\n",
       "      <td>-0.001593</td>\n",
       "      <td>-0.001069</td>\n",
       "      <td>-0.001623</td>\n",
       "      <td>0.001709</td>\n",
       "      <td>-0.000725</td>\n",
       "    </tr>\n",
       "    <tr>\n",
       "      <th>cnt_da_rech90</th>\n",
       "      <td>0.002999</td>\n",
       "      <td>0.001121</td>\n",
       "      <td>0.038814</td>\n",
       "      <td>0.031155</td>\n",
       "      <td>0.072255</td>\n",
       "      <td>0.056282</td>\n",
       "      <td>-0.003538</td>\n",
       "      <td>-0.001859</td>\n",
       "      <td>0.014779</td>\n",
       "      <td>0.011981</td>\n",
       "      <td>0.001574</td>\n",
       "      <td>0.019213</td>\n",
       "      <td>0.016727</td>\n",
       "      <td>-0.003064</td>\n",
       "      <td>0.004090</td>\n",
       "      <td>-0.006727</td>\n",
       "      <td>0.012465</td>\n",
       "      <td>0.017533</td>\n",
       "      <td>0.007077</td>\n",
       "      <td>0.002153</td>\n",
       "      <td>0.000770</td>\n",
       "      <td>1.000000</td>\n",
       "      <td>0.348885</td>\n",
       "      <td>0.017976</td>\n",
       "      <td>0.026249</td>\n",
       "      <td>-0.001855</td>\n",
       "      <td>-0.003351</td>\n",
       "      <td>0.000907</td>\n",
       "      <td>0.020909</td>\n",
       "      <td>0.038019</td>\n",
       "      <td>-0.003094</td>\n",
       "      <td>0.013430</td>\n",
       "      <td>0.024046</td>\n",
       "    </tr>\n",
       "    <tr>\n",
       "      <th>fr_da_rech90</th>\n",
       "      <td>-0.005418</td>\n",
       "      <td>0.005395</td>\n",
       "      <td>0.020673</td>\n",
       "      <td>0.016437</td>\n",
       "      <td>0.046761</td>\n",
       "      <td>0.036886</td>\n",
       "      <td>-0.002395</td>\n",
       "      <td>-0.000203</td>\n",
       "      <td>0.016042</td>\n",
       "      <td>0.006989</td>\n",
       "      <td>-0.001925</td>\n",
       "      <td>0.017255</td>\n",
       "      <td>0.013734</td>\n",
       "      <td>-0.001412</td>\n",
       "      <td>0.002865</td>\n",
       "      <td>-0.003822</td>\n",
       "      <td>0.013136</td>\n",
       "      <td>0.019677</td>\n",
       "      <td>0.008492</td>\n",
       "      <td>0.000088</td>\n",
       "      <td>0.005505</td>\n",
       "      <td>0.348885</td>\n",
       "      <td>1.000000</td>\n",
       "      <td>0.010021</td>\n",
       "      <td>0.014935</td>\n",
       "      <td>-0.000754</td>\n",
       "      <td>-0.002234</td>\n",
       "      <td>0.001993</td>\n",
       "      <td>0.011501</td>\n",
       "      <td>0.021785</td>\n",
       "      <td>-0.000949</td>\n",
       "      <td>0.000354</td>\n",
       "      <td>0.001226</td>\n",
       "    </tr>\n",
       "    <tr>\n",
       "      <th>cnt_loans30</th>\n",
       "      <td>0.196283</td>\n",
       "      <td>-0.001826</td>\n",
       "      <td>0.366116</td>\n",
       "      <td>0.340387</td>\n",
       "      <td>0.180203</td>\n",
       "      <td>0.171595</td>\n",
       "      <td>0.001193</td>\n",
       "      <td>0.000380</td>\n",
       "      <td>-0.027612</td>\n",
       "      <td>0.765802</td>\n",
       "      <td>0.002666</td>\n",
       "      <td>0.491864</td>\n",
       "      <td>-0.029789</td>\n",
       "      <td>-0.000211</td>\n",
       "      <td>0.689002</td>\n",
       "      <td>-0.119083</td>\n",
       "      <td>0.442766</td>\n",
       "      <td>-0.060766</td>\n",
       "      <td>-0.043381</td>\n",
       "      <td>0.001852</td>\n",
       "      <td>-0.003212</td>\n",
       "      <td>0.017976</td>\n",
       "      <td>0.010021</td>\n",
       "      <td>1.000000</td>\n",
       "      <td>0.957742</td>\n",
       "      <td>0.000251</td>\n",
       "      <td>-0.093146</td>\n",
       "      <td>0.015595</td>\n",
       "      <td>0.852905</td>\n",
       "      <td>0.143590</td>\n",
       "      <td>-0.097871</td>\n",
       "      <td>0.067842</td>\n",
       "      <td>0.033369</td>\n",
       "    </tr>\n",
       "    <tr>\n",
       "      <th>amnt_loans30</th>\n",
       "      <td>0.197272</td>\n",
       "      <td>-0.001726</td>\n",
       "      <td>0.471492</td>\n",
       "      <td>0.447869</td>\n",
       "      <td>0.233453</td>\n",
       "      <td>0.231906</td>\n",
       "      <td>0.000903</td>\n",
       "      <td>0.000536</td>\n",
       "      <td>0.008502</td>\n",
       "      <td>0.752296</td>\n",
       "      <td>0.002470</td>\n",
       "      <td>0.531079</td>\n",
       "      <td>0.007125</td>\n",
       "      <td>0.000134</td>\n",
       "      <td>0.707558</td>\n",
       "      <td>-0.123664</td>\n",
       "      <td>0.508599</td>\n",
       "      <td>-0.025307</td>\n",
       "      <td>-0.033878</td>\n",
       "      <td>0.001487</td>\n",
       "      <td>-0.003395</td>\n",
       "      <td>0.026249</td>\n",
       "      <td>0.014935</td>\n",
       "      <td>0.957742</td>\n",
       "      <td>1.000000</td>\n",
       "      <td>-0.000073</td>\n",
       "      <td>-0.078531</td>\n",
       "      <td>0.014625</td>\n",
       "      <td>0.897961</td>\n",
       "      <td>0.329170</td>\n",
       "      <td>-0.087989</td>\n",
       "      <td>0.060425</td>\n",
       "      <td>0.030901</td>\n",
       "    </tr>\n",
       "    <tr>\n",
       "      <th>maxamnt_loans30</th>\n",
       "      <td>0.000248</td>\n",
       "      <td>-0.002764</td>\n",
       "      <td>-0.000028</td>\n",
       "      <td>0.000025</td>\n",
       "      <td>-0.000864</td>\n",
       "      <td>-0.001411</td>\n",
       "      <td>0.000928</td>\n",
       "      <td>0.000503</td>\n",
       "      <td>0.001000</td>\n",
       "      <td>0.000109</td>\n",
       "      <td>-0.001100</td>\n",
       "      <td>0.001633</td>\n",
       "      <td>0.001985</td>\n",
       "      <td>-0.002176</td>\n",
       "      <td>-0.000573</td>\n",
       "      <td>0.001635</td>\n",
       "      <td>0.001152</td>\n",
       "      <td>0.001016</td>\n",
       "      <td>0.001884</td>\n",
       "      <td>-0.000394</td>\n",
       "      <td>-0.001070</td>\n",
       "      <td>-0.001855</td>\n",
       "      <td>-0.000754</td>\n",
       "      <td>0.000251</td>\n",
       "      <td>-0.000073</td>\n",
       "      <td>1.000000</td>\n",
       "      <td>0.007782</td>\n",
       "      <td>0.003987</td>\n",
       "      <td>-0.001850</td>\n",
       "      <td>-0.000487</td>\n",
       "      <td>0.009330</td>\n",
       "      <td>-0.001512</td>\n",
       "      <td>-0.000915</td>\n",
       "    </tr>\n",
       "    <tr>\n",
       "      <th>medianamnt_loans30</th>\n",
       "      <td>0.044589</td>\n",
       "      <td>0.004664</td>\n",
       "      <td>-0.011610</td>\n",
       "      <td>-0.005591</td>\n",
       "      <td>-0.016482</td>\n",
       "      <td>-0.009467</td>\n",
       "      <td>0.001835</td>\n",
       "      <td>0.000061</td>\n",
       "      <td>0.028370</td>\n",
       "      <td>-0.067011</td>\n",
       "      <td>-0.000331</td>\n",
       "      <td>-0.034460</td>\n",
       "      <td>0.032477</td>\n",
       "      <td>-0.002289</td>\n",
       "      <td>-0.053637</td>\n",
       "      <td>0.020626</td>\n",
       "      <td>-0.022133</td>\n",
       "      <td>0.036475</td>\n",
       "      <td>0.030534</td>\n",
       "      <td>0.000049</td>\n",
       "      <td>-0.001141</td>\n",
       "      <td>-0.003351</td>\n",
       "      <td>-0.002234</td>\n",
       "      <td>-0.093146</td>\n",
       "      <td>-0.078531</td>\n",
       "      <td>0.007782</td>\n",
       "      <td>1.000000</td>\n",
       "      <td>-0.003670</td>\n",
       "      <td>-0.067580</td>\n",
       "      <td>0.058378</td>\n",
       "      <td>0.911604</td>\n",
       "      <td>-0.006007</td>\n",
       "      <td>0.003178</td>\n",
       "    </tr>\n",
       "    <tr>\n",
       "      <th>cnt_loans90</th>\n",
       "      <td>0.004733</td>\n",
       "      <td>-0.000611</td>\n",
       "      <td>0.008962</td>\n",
       "      <td>0.009446</td>\n",
       "      <td>0.004012</td>\n",
       "      <td>0.005141</td>\n",
       "      <td>-0.000225</td>\n",
       "      <td>-0.000972</td>\n",
       "      <td>0.000093</td>\n",
       "      <td>0.014703</td>\n",
       "      <td>0.003368</td>\n",
       "      <td>0.009419</td>\n",
       "      <td>-0.001143</td>\n",
       "      <td>0.001342</td>\n",
       "      <td>0.015754</td>\n",
       "      <td>-0.002756</td>\n",
       "      <td>0.011306</td>\n",
       "      <td>-0.000123</td>\n",
       "      <td>-0.000926</td>\n",
       "      <td>-0.001986</td>\n",
       "      <td>-0.001623</td>\n",
       "      <td>0.000907</td>\n",
       "      <td>0.001993</td>\n",
       "      <td>0.015595</td>\n",
       "      <td>0.014625</td>\n",
       "      <td>0.003987</td>\n",
       "      <td>-0.003670</td>\n",
       "      <td>1.000000</td>\n",
       "      <td>0.017697</td>\n",
       "      <td>0.001450</td>\n",
       "      <td>-0.002571</td>\n",
       "      <td>0.000587</td>\n",
       "      <td>-0.000476</td>\n",
       "    </tr>\n",
       "    <tr>\n",
       "      <th>amnt_loans90</th>\n",
       "      <td>0.199788</td>\n",
       "      <td>-0.002319</td>\n",
       "      <td>0.563496</td>\n",
       "      <td>0.567204</td>\n",
       "      <td>0.298943</td>\n",
       "      <td>0.327436</td>\n",
       "      <td>0.000870</td>\n",
       "      <td>0.000519</td>\n",
       "      <td>0.014067</td>\n",
       "      <td>0.685257</td>\n",
       "      <td>0.002634</td>\n",
       "      <td>0.484761</td>\n",
       "      <td>0.014546</td>\n",
       "      <td>0.000736</td>\n",
       "      <td>0.783419</td>\n",
       "      <td>-0.132035</td>\n",
       "      <td>0.562609</td>\n",
       "      <td>-0.023450</td>\n",
       "      <td>-0.036412</td>\n",
       "      <td>0.003369</td>\n",
       "      <td>-0.001593</td>\n",
       "      <td>0.020909</td>\n",
       "      <td>0.011501</td>\n",
       "      <td>0.852905</td>\n",
       "      <td>0.897961</td>\n",
       "      <td>-0.001850</td>\n",
       "      <td>-0.067580</td>\n",
       "      <td>0.017697</td>\n",
       "      <td>1.000000</td>\n",
       "      <td>0.323417</td>\n",
       "      <td>-0.095160</td>\n",
       "      <td>0.052142</td>\n",
       "      <td>0.029653</td>\n",
       "    </tr>\n",
       "    <tr>\n",
       "      <th>maxamnt_loans90</th>\n",
       "      <td>0.084144</td>\n",
       "      <td>-0.001191</td>\n",
       "      <td>0.400199</td>\n",
       "      <td>0.397251</td>\n",
       "      <td>0.234211</td>\n",
       "      <td>0.251029</td>\n",
       "      <td>-0.001123</td>\n",
       "      <td>0.001524</td>\n",
       "      <td>0.148460</td>\n",
       "      <td>0.174104</td>\n",
       "      <td>-0.001890</td>\n",
       "      <td>0.257705</td>\n",
       "      <td>0.159613</td>\n",
       "      <td>-0.002141</td>\n",
       "      <td>0.244602</td>\n",
       "      <td>-0.045780</td>\n",
       "      <td>0.321739</td>\n",
       "      <td>0.134139</td>\n",
       "      <td>0.027130</td>\n",
       "      <td>-0.000647</td>\n",
       "      <td>-0.001069</td>\n",
       "      <td>0.038019</td>\n",
       "      <td>0.021785</td>\n",
       "      <td>0.143590</td>\n",
       "      <td>0.329170</td>\n",
       "      <td>-0.000487</td>\n",
       "      <td>0.058378</td>\n",
       "      <td>0.001450</td>\n",
       "      <td>0.323417</td>\n",
       "      <td>1.000000</td>\n",
       "      <td>0.032256</td>\n",
       "      <td>0.013376</td>\n",
       "      <td>0.029679</td>\n",
       "    </tr>\n",
       "    <tr>\n",
       "      <th>medianamnt_loans90</th>\n",
       "      <td>0.035747</td>\n",
       "      <td>0.002771</td>\n",
       "      <td>-0.037305</td>\n",
       "      <td>-0.034686</td>\n",
       "      <td>-0.035489</td>\n",
       "      <td>-0.034122</td>\n",
       "      <td>0.002771</td>\n",
       "      <td>-0.002239</td>\n",
       "      <td>0.021004</td>\n",
       "      <td>-0.071451</td>\n",
       "      <td>-0.001292</td>\n",
       "      <td>-0.042244</td>\n",
       "      <td>0.022692</td>\n",
       "      <td>-0.001927</td>\n",
       "      <td>-0.072481</td>\n",
       "      <td>0.016964</td>\n",
       "      <td>-0.042386</td>\n",
       "      <td>0.031696</td>\n",
       "      <td>0.032453</td>\n",
       "      <td>-0.001365</td>\n",
       "      <td>-0.001623</td>\n",
       "      <td>-0.003094</td>\n",
       "      <td>-0.000949</td>\n",
       "      <td>-0.097871</td>\n",
       "      <td>-0.087989</td>\n",
       "      <td>0.009330</td>\n",
       "      <td>0.911604</td>\n",
       "      <td>-0.002571</td>\n",
       "      <td>-0.095160</td>\n",
       "      <td>0.032256</td>\n",
       "      <td>1.000000</td>\n",
       "      <td>-0.013388</td>\n",
       "      <td>-0.010443</td>\n",
       "    </tr>\n",
       "    <tr>\n",
       "      <th>payback30</th>\n",
       "      <td>0.048336</td>\n",
       "      <td>0.001940</td>\n",
       "      <td>0.026915</td>\n",
       "      <td>0.019400</td>\n",
       "      <td>0.072974</td>\n",
       "      <td>0.067110</td>\n",
       "      <td>-0.002233</td>\n",
       "      <td>0.000077</td>\n",
       "      <td>-0.027369</td>\n",
       "      <td>0.043617</td>\n",
       "      <td>0.001455</td>\n",
       "      <td>0.000112</td>\n",
       "      <td>-0.018398</td>\n",
       "      <td>0.001516</td>\n",
       "      <td>0.011943</td>\n",
       "      <td>0.036817</td>\n",
       "      <td>-0.026409</td>\n",
       "      <td>-0.035640</td>\n",
       "      <td>-0.031760</td>\n",
       "      <td>-0.000471</td>\n",
       "      <td>0.001709</td>\n",
       "      <td>0.013430</td>\n",
       "      <td>0.000354</td>\n",
       "      <td>0.067842</td>\n",
       "      <td>0.060425</td>\n",
       "      <td>-0.001512</td>\n",
       "      <td>-0.006007</td>\n",
       "      <td>0.000587</td>\n",
       "      <td>0.052142</td>\n",
       "      <td>0.013376</td>\n",
       "      <td>-0.013388</td>\n",
       "      <td>1.000000</td>\n",
       "      <td>0.830363</td>\n",
       "    </tr>\n",
       "    <tr>\n",
       "      <th>payback90</th>\n",
       "      <td>0.049183</td>\n",
       "      <td>0.002203</td>\n",
       "      <td>0.047175</td>\n",
       "      <td>0.040800</td>\n",
       "      <td>0.095147</td>\n",
       "      <td>0.099501</td>\n",
       "      <td>-0.001583</td>\n",
       "      <td>0.000417</td>\n",
       "      <td>-0.014260</td>\n",
       "      <td>0.017362</td>\n",
       "      <td>0.000998</td>\n",
       "      <td>-0.012596</td>\n",
       "      <td>-0.002861</td>\n",
       "      <td>0.001811</td>\n",
       "      <td>-0.003141</td>\n",
       "      <td>0.077529</td>\n",
       "      <td>-0.029997</td>\n",
       "      <td>-0.023022</td>\n",
       "      <td>-0.031210</td>\n",
       "      <td>0.000382</td>\n",
       "      <td>-0.000725</td>\n",
       "      <td>0.024046</td>\n",
       "      <td>0.001226</td>\n",
       "      <td>0.033369</td>\n",
       "      <td>0.030901</td>\n",
       "      <td>-0.000915</td>\n",
       "      <td>0.003178</td>\n",
       "      <td>-0.000476</td>\n",
       "      <td>0.029653</td>\n",
       "      <td>0.029679</td>\n",
       "      <td>-0.010443</td>\n",
       "      <td>0.830363</td>\n",
       "      <td>1.000000</td>\n",
       "    </tr>\n",
       "  </tbody>\n",
       "</table>\n",
       "</div>"
      ],
      "text/plain": [
       "                         label       aon  ...  payback30  payback90\n",
       "label                 1.000000 -0.003785  ...   0.048336   0.049183\n",
       "aon                  -0.003785  1.000000  ...   0.001940   0.002203\n",
       "daily_decr30          0.168298  0.001104  ...   0.026915   0.047175\n",
       "daily_decr90          0.166150  0.000374  ...   0.019400   0.040800\n",
       "rental30              0.058085 -0.000960  ...   0.072974   0.095147\n",
       "rental90              0.075521 -0.000790  ...   0.067110   0.099501\n",
       "last_rech_date_ma     0.003728  0.001692  ...  -0.002233  -0.001583\n",
       "last_rech_date_da     0.001711 -0.001693  ...   0.000077   0.000417\n",
       "last_rech_amt_ma      0.131804  0.004256  ...  -0.027369  -0.014260\n",
       "cnt_ma_rech30         0.237331 -0.003148  ...   0.043617   0.017362\n",
       "fr_ma_rech30          0.001330 -0.001163  ...   0.001455   0.000998\n",
       "sumamnt_ma_rech30     0.202828  0.000707  ...   0.000112  -0.012596\n",
       "medianamnt_ma_rech30  0.141490  0.004306  ...  -0.018398  -0.002861\n",
       "medianmarechprebal30 -0.004829  0.003930  ...   0.001516   0.001811\n",
       "cnt_ma_rech90         0.236392 -0.002725  ...   0.011943  -0.003141\n",
       "fr_ma_rech90          0.084385  0.004401  ...   0.036817   0.077529\n",
       "sumamnt_ma_rech90     0.205793  0.001011  ...  -0.026409  -0.029997\n",
       "medianamnt_ma_rech90  0.120855  0.004909  ...  -0.035640  -0.023022\n",
       "medianmarechprebal90  0.039300 -0.000859  ...  -0.031760  -0.031210\n",
       "cnt_da_rech30         0.003827  0.001564  ...  -0.000471   0.000382\n",
       "fr_da_rech30         -0.000027  0.000892  ...   0.001709  -0.000725\n",
       "cnt_da_rech90         0.002999  0.001121  ...   0.013430   0.024046\n",
       "fr_da_rech90         -0.005418  0.005395  ...   0.000354   0.001226\n",
       "cnt_loans30           0.196283 -0.001826  ...   0.067842   0.033369\n",
       "amnt_loans30          0.197272 -0.001726  ...   0.060425   0.030901\n",
       "maxamnt_loans30       0.000248 -0.002764  ...  -0.001512  -0.000915\n",
       "medianamnt_loans30    0.044589  0.004664  ...  -0.006007   0.003178\n",
       "cnt_loans90           0.004733 -0.000611  ...   0.000587  -0.000476\n",
       "amnt_loans90          0.199788 -0.002319  ...   0.052142   0.029653\n",
       "maxamnt_loans90       0.084144 -0.001191  ...   0.013376   0.029679\n",
       "medianamnt_loans90    0.035747  0.002771  ...  -0.013388  -0.010443\n",
       "payback30             0.048336  0.001940  ...   1.000000   0.830363\n",
       "payback90             0.049183  0.002203  ...   0.830363   1.000000\n",
       "\n",
       "[33 rows x 33 columns]"
      ]
     },
     "execution_count": 17,
     "metadata": {
      "tags": []
     },
     "output_type": "execute_result"
    }
   ],
   "source": [
    "corr_mat=mc.corr()\n",
    "corr_mat"
   ]
  },
  {
   "cell_type": "code",
   "execution_count": 18,
   "metadata": {
    "colab": {
     "base_uri": "https://localhost:8080/",
     "height": 669
    },
    "id": "jeUTlSKYYYej",
    "outputId": "512202cb-a744-48b1-d545-2d9758aa542b"
   },
   "outputs": [
    {
     "data": {
      "image/png": "[encoded data removed]",
      "text/plain": [
       "<Figure size 1800x1080 with 2 Axes>"
      ]
     },
     "metadata": {
      "needs_background": "light",
      "tags": []
     },
     "output_type": "display_data"
    }
   ],
   "source": [
    "#checking heatmap for correlation\n",
    "\n",
    "plt.figure(figsize=(25,15))\n",
    "sns.heatmap(corr_mat,annot=True)\n",
    "plt.show()"
   ]
  },
  {
   "cell_type": "markdown",
   "metadata": {
    "id": "8sCRAvouYYek"
   },
   "source": [
    "### Lets check the data distribution among all the columns "
   ]
  },
  {
   "cell_type": "code",
   "execution_count": 19,
   "metadata": {
    "colab": {
     "base_uri": "https://localhost:8080/",
     "height": 519
    },
    "id": "_GTPGjDiYYen",
    "outputId": "7ba37936-b259-4949-c074-c8f7804321d5",
    "scrolled": true
   },
   "outputs": [
    {
     "data": {
      "image/png": "[encoded data removed]",
      "text/plain": [
       "<Figure size 1800x1080 with 40 Axes>"
      ]
     },
     "metadata": {
      "needs_background": "light",
      "tags": []
     },
     "output_type": "display_data"
    }
   ],
   "source": [
    "mc.plot(kind='box',subplots= True,layout=(10,4),figsize=(25,15))\n",
    "plt.show()"
   ]
  },
  {
   "cell_type": "markdown",
   "metadata": {
    "id": "POqxsJryYYeo"
   },
   "source": [
    "###### There are lot of outliers in each column."
   ]
  },
  {
   "cell_type": "markdown",
   "metadata": {
    "id": "HiNKqTnaYYeo"
   },
   "source": [
    "#### Removing Outliers"
   ]
  },
  {
   "cell_type": "code",
   "execution_count": 20,
   "metadata": {
    "colab": {
     "base_uri": "https://localhost:8080/"
    },
    "id": "iiNxtQm7YYep",
    "outputId": "964c528c-1317-4693-8c9c-3912191b3fe2"
   },
   "outputs": [
    {
     "data": {
      "text/plain": [
       "(array([    21,     22,     22, ..., 209586, 209587, 209587]),\n",
       " array([15, 15, 32, ..., 28, 26, 30]))"
      ]
     },
     "execution_count": 20,
     "metadata": {
      "tags": []
     },
     "output_type": "execute_result"
    }
   ],
   "source": [
    "from scipy.stats import zscore\n",
    "import numpy as np\n",
    "z=np.abs(zscore(mc))\n",
    "threshold=3\n",
    "np.where(z>3)"
   ]
  },
  {
   "cell_type": "code",
   "execution_count": 21,
   "metadata": {
    "colab": {
     "base_uri": "https://localhost:8080/",
     "height": 439
    },
    "id": "HcnVcPZPYYep",
    "outputId": "7c5e0e49-536b-4392-f71c-c5b60df5b21e"
   },
   "outputs": [
    {
     "data": {
      "text/html": [
       "<div>\n",
       "<style scoped>\n",
       "    .dataframe tbody tr th:only-of-type {\n",
       "        vertical-align: middle;\n",
       "    }\n",
       "\n",
       "    .dataframe tbody tr th {\n",
       "        vertical-align: top;\n",
       "    }\n",
       "\n",
       "    .dataframe thead th {\n",
       "        text-align: right;\n",
       "    }\n",
       "</style>\n",
       "<table border=\"1\" class=\"dataframe\">\n",
       "  <thead>\n",
       "    <tr style=\"text-align: right;\">\n",
       "      <th></th>\n",
       "      <th>label</th>\n",
       "      <th>aon</th>\n",
       "      <th>daily_decr30</th>\n",
       "      <th>daily_decr90</th>\n",
       "      <th>rental30</th>\n",
       "      <th>rental90</th>\n",
       "      <th>last_rech_date_ma</th>\n",
       "      <th>last_rech_date_da</th>\n",
       "      <th>last_rech_amt_ma</th>\n",
       "      <th>cnt_ma_rech30</th>\n",
       "      <th>fr_ma_rech30</th>\n",
       "      <th>sumamnt_ma_rech30</th>\n",
       "      <th>medianamnt_ma_rech30</th>\n",
       "      <th>medianmarechprebal30</th>\n",
       "      <th>cnt_ma_rech90</th>\n",
       "      <th>fr_ma_rech90</th>\n",
       "      <th>sumamnt_ma_rech90</th>\n",
       "      <th>medianamnt_ma_rech90</th>\n",
       "      <th>medianmarechprebal90</th>\n",
       "      <th>cnt_da_rech30</th>\n",
       "      <th>fr_da_rech30</th>\n",
       "      <th>cnt_da_rech90</th>\n",
       "      <th>fr_da_rech90</th>\n",
       "      <th>cnt_loans30</th>\n",
       "      <th>amnt_loans30</th>\n",
       "      <th>maxamnt_loans30</th>\n",
       "      <th>medianamnt_loans30</th>\n",
       "      <th>cnt_loans90</th>\n",
       "      <th>amnt_loans90</th>\n",
       "      <th>maxamnt_loans90</th>\n",
       "      <th>medianamnt_loans90</th>\n",
       "      <th>payback30</th>\n",
       "      <th>payback90</th>\n",
       "    </tr>\n",
       "  </thead>\n",
       "  <tbody>\n",
       "    <tr>\n",
       "      <th>0</th>\n",
       "      <td>0</td>\n",
       "      <td>272.0</td>\n",
       "      <td>3055.050000</td>\n",
       "      <td>3065.150000</td>\n",
       "      <td>220.13</td>\n",
       "      <td>260.13</td>\n",
       "      <td>2.0</td>\n",
       "      <td>0.0</td>\n",
       "      <td>1539</td>\n",
       "      <td>2</td>\n",
       "      <td>21.0</td>\n",
       "      <td>3078.0</td>\n",
       "      <td>1539.0</td>\n",
       "      <td>7.50</td>\n",
       "      <td>2</td>\n",
       "      <td>21</td>\n",
       "      <td>3078</td>\n",
       "      <td>1539.0</td>\n",
       "      <td>7.50</td>\n",
       "      <td>0.0</td>\n",
       "      <td>0.0</td>\n",
       "      <td>0</td>\n",
       "      <td>0</td>\n",
       "      <td>2</td>\n",
       "      <td>12</td>\n",
       "      <td>6.0</td>\n",
       "      <td>0.0</td>\n",
       "      <td>2.0</td>\n",
       "      <td>12</td>\n",
       "      <td>6</td>\n",
       "      <td>0.0</td>\n",
       "      <td>29.000000</td>\n",
       "      <td>29.000000</td>\n",
       "    </tr>\n",
       "    <tr>\n",
       "      <th>1</th>\n",
       "      <td>1</td>\n",
       "      <td>712.0</td>\n",
       "      <td>12122.000000</td>\n",
       "      <td>12124.750000</td>\n",
       "      <td>3691.26</td>\n",
       "      <td>3691.26</td>\n",
       "      <td>20.0</td>\n",
       "      <td>0.0</td>\n",
       "      <td>5787</td>\n",
       "      <td>1</td>\n",
       "      <td>0.0</td>\n",
       "      <td>5787.0</td>\n",
       "      <td>5787.0</td>\n",
       "      <td>61.04</td>\n",
       "      <td>1</td>\n",
       "      <td>0</td>\n",
       "      <td>5787</td>\n",
       "      <td>5787.0</td>\n",
       "      <td>61.04</td>\n",
       "      <td>0.0</td>\n",
       "      <td>0.0</td>\n",
       "      <td>0</td>\n",
       "      <td>0</td>\n",
       "      <td>1</td>\n",
       "      <td>12</td>\n",
       "      <td>12.0</td>\n",
       "      <td>0.0</td>\n",
       "      <td>1.0</td>\n",
       "      <td>12</td>\n",
       "      <td>12</td>\n",
       "      <td>0.0</td>\n",
       "      <td>0.000000</td>\n",
       "      <td>0.000000</td>\n",
       "    </tr>\n",
       "    <tr>\n",
       "      <th>2</th>\n",
       "      <td>1</td>\n",
       "      <td>535.0</td>\n",
       "      <td>1398.000000</td>\n",
       "      <td>1398.000000</td>\n",
       "      <td>900.13</td>\n",
       "      <td>900.13</td>\n",
       "      <td>3.0</td>\n",
       "      <td>0.0</td>\n",
       "      <td>1539</td>\n",
       "      <td>1</td>\n",
       "      <td>0.0</td>\n",
       "      <td>1539.0</td>\n",
       "      <td>1539.0</td>\n",
       "      <td>66.32</td>\n",
       "      <td>1</td>\n",
       "      <td>0</td>\n",
       "      <td>1539</td>\n",
       "      <td>1539.0</td>\n",
       "      <td>66.32</td>\n",
       "      <td>0.0</td>\n",
       "      <td>0.0</td>\n",
       "      <td>0</td>\n",
       "      <td>0</td>\n",
       "      <td>1</td>\n",
       "      <td>6</td>\n",
       "      <td>6.0</td>\n",
       "      <td>0.0</td>\n",
       "      <td>1.0</td>\n",
       "      <td>6</td>\n",
       "      <td>6</td>\n",
       "      <td>0.0</td>\n",
       "      <td>0.000000</td>\n",
       "      <td>0.000000</td>\n",
       "    </tr>\n",
       "    <tr>\n",
       "      <th>3</th>\n",
       "      <td>1</td>\n",
       "      <td>241.0</td>\n",
       "      <td>21.228000</td>\n",
       "      <td>21.228000</td>\n",
       "      <td>159.42</td>\n",
       "      <td>159.42</td>\n",
       "      <td>41.0</td>\n",
       "      <td>0.0</td>\n",
       "      <td>947</td>\n",
       "      <td>0</td>\n",
       "      <td>0.0</td>\n",
       "      <td>0.0</td>\n",
       "      <td>0.0</td>\n",
       "      <td>0.00</td>\n",
       "      <td>1</td>\n",
       "      <td>0</td>\n",
       "      <td>947</td>\n",
       "      <td>947.0</td>\n",
       "      <td>2.50</td>\n",
       "      <td>0.0</td>\n",
       "      <td>0.0</td>\n",
       "      <td>0</td>\n",
       "      <td>0</td>\n",
       "      <td>2</td>\n",
       "      <td>12</td>\n",
       "      <td>6.0</td>\n",
       "      <td>0.0</td>\n",
       "      <td>2.0</td>\n",
       "      <td>12</td>\n",
       "      <td>6</td>\n",
       "      <td>0.0</td>\n",
       "      <td>0.000000</td>\n",
       "      <td>0.000000</td>\n",
       "    </tr>\n",
       "    <tr>\n",
       "      <th>4</th>\n",
       "      <td>1</td>\n",
       "      <td>947.0</td>\n",
       "      <td>150.619333</td>\n",
       "      <td>150.619333</td>\n",
       "      <td>1098.90</td>\n",
       "      <td>1098.90</td>\n",
       "      <td>4.0</td>\n",
       "      <td>0.0</td>\n",
       "      <td>2309</td>\n",
       "      <td>7</td>\n",
       "      <td>2.0</td>\n",
       "      <td>20029.0</td>\n",
       "      <td>2309.0</td>\n",
       "      <td>29.00</td>\n",
       "      <td>8</td>\n",
       "      <td>2</td>\n",
       "      <td>23496</td>\n",
       "      <td>2888.0</td>\n",
       "      <td>35.00</td>\n",
       "      <td>0.0</td>\n",
       "      <td>0.0</td>\n",
       "      <td>0</td>\n",
       "      <td>0</td>\n",
       "      <td>7</td>\n",
       "      <td>42</td>\n",
       "      <td>6.0</td>\n",
       "      <td>0.0</td>\n",
       "      <td>7.0</td>\n",
       "      <td>42</td>\n",
       "      <td>6</td>\n",
       "      <td>0.0</td>\n",
       "      <td>2.333333</td>\n",
       "      <td>2.333333</td>\n",
       "    </tr>\n",
       "    <tr>\n",
       "      <th>...</th>\n",
       "      <td>...</td>\n",
       "      <td>...</td>\n",
       "      <td>...</td>\n",
       "      <td>...</td>\n",
       "      <td>...</td>\n",
       "      <td>...</td>\n",
       "      <td>...</td>\n",
       "      <td>...</td>\n",
       "      <td>...</td>\n",
       "      <td>...</td>\n",
       "      <td>...</td>\n",
       "      <td>...</td>\n",
       "      <td>...</td>\n",
       "      <td>...</td>\n",
       "      <td>...</td>\n",
       "      <td>...</td>\n",
       "      <td>...</td>\n",
       "      <td>...</td>\n",
       "      <td>...</td>\n",
       "      <td>...</td>\n",
       "      <td>...</td>\n",
       "      <td>...</td>\n",
       "      <td>...</td>\n",
       "      <td>...</td>\n",
       "      <td>...</td>\n",
       "      <td>...</td>\n",
       "      <td>...</td>\n",
       "      <td>...</td>\n",
       "      <td>...</td>\n",
       "      <td>...</td>\n",
       "      <td>...</td>\n",
       "      <td>...</td>\n",
       "      <td>...</td>\n",
       "    </tr>\n",
       "    <tr>\n",
       "      <th>209588</th>\n",
       "      <td>1</td>\n",
       "      <td>404.0</td>\n",
       "      <td>151.872333</td>\n",
       "      <td>151.872333</td>\n",
       "      <td>1089.19</td>\n",
       "      <td>1089.19</td>\n",
       "      <td>1.0</td>\n",
       "      <td>0.0</td>\n",
       "      <td>4048</td>\n",
       "      <td>3</td>\n",
       "      <td>2.0</td>\n",
       "      <td>10404.0</td>\n",
       "      <td>3178.0</td>\n",
       "      <td>91.81</td>\n",
       "      <td>3</td>\n",
       "      <td>2</td>\n",
       "      <td>10404</td>\n",
       "      <td>3178.0</td>\n",
       "      <td>91.81</td>\n",
       "      <td>0.0</td>\n",
       "      <td>0.0</td>\n",
       "      <td>0</td>\n",
       "      <td>0</td>\n",
       "      <td>2</td>\n",
       "      <td>12</td>\n",
       "      <td>6.0</td>\n",
       "      <td>0.0</td>\n",
       "      <td>2.0</td>\n",
       "      <td>12</td>\n",
       "      <td>6</td>\n",
       "      <td>0.0</td>\n",
       "      <td>1.000000</td>\n",
       "      <td>1.000000</td>\n",
       "    </tr>\n",
       "    <tr>\n",
       "      <th>209589</th>\n",
       "      <td>1</td>\n",
       "      <td>1075.0</td>\n",
       "      <td>36.936000</td>\n",
       "      <td>36.936000</td>\n",
       "      <td>1728.36</td>\n",
       "      <td>1728.36</td>\n",
       "      <td>4.0</td>\n",
       "      <td>0.0</td>\n",
       "      <td>773</td>\n",
       "      <td>4</td>\n",
       "      <td>1.0</td>\n",
       "      <td>3092.0</td>\n",
       "      <td>773.0</td>\n",
       "      <td>161.30</td>\n",
       "      <td>6</td>\n",
       "      <td>2</td>\n",
       "      <td>4038</td>\n",
       "      <td>773.0</td>\n",
       "      <td>111.80</td>\n",
       "      <td>0.0</td>\n",
       "      <td>0.0</td>\n",
       "      <td>0</td>\n",
       "      <td>0</td>\n",
       "      <td>3</td>\n",
       "      <td>18</td>\n",
       "      <td>6.0</td>\n",
       "      <td>0.0</td>\n",
       "      <td>3.0</td>\n",
       "      <td>18</td>\n",
       "      <td>6</td>\n",
       "      <td>0.0</td>\n",
       "      <td>1.000000</td>\n",
       "      <td>1.000000</td>\n",
       "    </tr>\n",
       "    <tr>\n",
       "      <th>209590</th>\n",
       "      <td>1</td>\n",
       "      <td>1013.0</td>\n",
       "      <td>11843.111667</td>\n",
       "      <td>11904.350000</td>\n",
       "      <td>5861.83</td>\n",
       "      <td>8893.20</td>\n",
       "      <td>3.0</td>\n",
       "      <td>0.0</td>\n",
       "      <td>1539</td>\n",
       "      <td>5</td>\n",
       "      <td>8.0</td>\n",
       "      <td>9334.0</td>\n",
       "      <td>1539.0</td>\n",
       "      <td>51.13</td>\n",
       "      <td>11</td>\n",
       "      <td>5</td>\n",
       "      <td>18592</td>\n",
       "      <td>1539.0</td>\n",
       "      <td>47.13</td>\n",
       "      <td>0.0</td>\n",
       "      <td>0.0</td>\n",
       "      <td>0</td>\n",
       "      <td>0</td>\n",
       "      <td>4</td>\n",
       "      <td>42</td>\n",
       "      <td>12.0</td>\n",
       "      <td>0.0</td>\n",
       "      <td>6.0</td>\n",
       "      <td>54</td>\n",
       "      <td>12</td>\n",
       "      <td>0.0</td>\n",
       "      <td>4.000000</td>\n",
       "      <td>3.833333</td>\n",
       "    </tr>\n",
       "    <tr>\n",
       "      <th>209591</th>\n",
       "      <td>1</td>\n",
       "      <td>1732.0</td>\n",
       "      <td>12488.228333</td>\n",
       "      <td>12574.370000</td>\n",
       "      <td>411.83</td>\n",
       "      <td>984.58</td>\n",
       "      <td>2.0</td>\n",
       "      <td>38.0</td>\n",
       "      <td>773</td>\n",
       "      <td>5</td>\n",
       "      <td>4.0</td>\n",
       "      <td>12154.0</td>\n",
       "      <td>773.0</td>\n",
       "      <td>164.00</td>\n",
       "      <td>6</td>\n",
       "      <td>4</td>\n",
       "      <td>17941</td>\n",
       "      <td>2410.5</td>\n",
       "      <td>100.00</td>\n",
       "      <td>0.0</td>\n",
       "      <td>0.0</td>\n",
       "      <td>1</td>\n",
       "      <td>0</td>\n",
       "      <td>2</td>\n",
       "      <td>18</td>\n",
       "      <td>12.0</td>\n",
       "      <td>0.0</td>\n",
       "      <td>3.0</td>\n",
       "      <td>24</td>\n",
       "      <td>12</td>\n",
       "      <td>0.0</td>\n",
       "      <td>0.000000</td>\n",
       "      <td>10.500000</td>\n",
       "    </tr>\n",
       "    <tr>\n",
       "      <th>209592</th>\n",
       "      <td>1</td>\n",
       "      <td>1581.0</td>\n",
       "      <td>4489.362000</td>\n",
       "      <td>4534.820000</td>\n",
       "      <td>483.92</td>\n",
       "      <td>631.20</td>\n",
       "      <td>13.0</td>\n",
       "      <td>0.0</td>\n",
       "      <td>7526</td>\n",
       "      <td>2</td>\n",
       "      <td>1.0</td>\n",
       "      <td>9065.0</td>\n",
       "      <td>4532.5</td>\n",
       "      <td>356.70</td>\n",
       "      <td>3</td>\n",
       "      <td>19</td>\n",
       "      <td>16591</td>\n",
       "      <td>7526.0</td>\n",
       "      <td>392.20</td>\n",
       "      <td>0.0</td>\n",
       "      <td>0.0</td>\n",
       "      <td>0</td>\n",
       "      <td>0</td>\n",
       "      <td>2</td>\n",
       "      <td>18</td>\n",
       "      <td>12.0</td>\n",
       "      <td>0.0</td>\n",
       "      <td>2.0</td>\n",
       "      <td>18</td>\n",
       "      <td>12</td>\n",
       "      <td>0.0</td>\n",
       "      <td>0.000000</td>\n",
       "      <td>0.000000</td>\n",
       "    </tr>\n",
       "  </tbody>\n",
       "</table>\n",
       "<p>161465 rows × 33 columns</p>\n",
       "</div>"
      ],
      "text/plain": [
       "        label     aon  daily_decr30  ...  medianamnt_loans90  payback30  payback90\n",
       "0           0   272.0   3055.050000  ...                 0.0  29.000000  29.000000\n",
       "1           1   712.0  12122.000000  ...                 0.0   0.000000   0.000000\n",
       "2           1   535.0   1398.000000  ...                 0.0   0.000000   0.000000\n",
       "3           1   241.0     21.228000  ...                 0.0   0.000000   0.000000\n",
       "4           1   947.0    150.619333  ...                 0.0   2.333333   2.333333\n",
       "...       ...     ...           ...  ...                 ...        ...        ...\n",
       "209588      1   404.0    151.872333  ...                 0.0   1.000000   1.000000\n",
       "209589      1  1075.0     36.936000  ...                 0.0   1.000000   1.000000\n",
       "209590      1  1013.0  11843.111667  ...                 0.0   4.000000   3.833333\n",
       "209591      1  1732.0  12488.228333  ...                 0.0   0.000000  10.500000\n",
       "209592      1  1581.0   4489.362000  ...                 0.0   0.000000   0.000000\n",
       "\n",
       "[161465 rows x 33 columns]"
      ]
     },
     "execution_count": 21,
     "metadata": {
      "tags": []
     },
     "output_type": "execute_result"
    }
   ],
   "source": [
    "new_mc=mc[(z<3).all(axis=1)]\n",
    "new_mc"
   ]
  },
  {
   "cell_type": "code",
   "execution_count": 22,
   "metadata": {
    "colab": {
     "base_uri": "https://localhost:8080/"
    },
    "id": "TtchKUtPYYeq",
    "outputId": "f821e9e4-d0ad-49d2-fc67-9d7df5895dc7"
   },
   "outputs": [
    {
     "data": {
      "text/plain": [
       "(209593, 33)"
      ]
     },
     "execution_count": 22,
     "metadata": {
      "tags": []
     },
     "output_type": "execute_result"
    }
   ],
   "source": [
    "mc.shape"
   ]
  },
  {
   "cell_type": "code",
   "execution_count": 23,
   "metadata": {
    "colab": {
     "base_uri": "https://localhost:8080/"
    },
    "id": "e91uvvW3YYeq",
    "outputId": "ebd40783-68e5-416d-a6af-bf7d80a944b4"
   },
   "outputs": [
    {
     "data": {
      "text/plain": [
       "(161465, 33)"
      ]
     },
     "execution_count": 23,
     "metadata": {
      "tags": []
     },
     "output_type": "execute_result"
    }
   ],
   "source": [
    "new_mc.shape"
   ]
  },
  {
   "cell_type": "code",
   "execution_count": 24,
   "metadata": {
    "colab": {
     "base_uri": "https://localhost:8080/"
    },
    "id": "E22O3KzsYYer",
    "outputId": "d675fe9d-3c7b-4cce-d319-4b39a372c5f9"
   },
   "outputs": [
    {
     "name": "stdout",
     "output_type": "stream",
     "text": [
      "22.962598941758554\n"
     ]
    }
   ],
   "source": [
    "percentage_loss=((209593-161465)/209593)*100\n",
    "print(percentage_loss)"
   ]
  },
  {
   "cell_type": "markdown",
   "metadata": {
    "id": "9ye6pDhqYYer"
   },
   "source": [
    "we are not removing outliers as we will lose huge data."
   ]
  },
  {
   "cell_type": "code",
   "execution_count": 25,
   "metadata": {
    "id": "Jp_XXLPdYYes"
   },
   "outputs": [],
   "source": [
    "#splitting the independent and target variables in x and y\n",
    "x=mc.drop('label',axis=1)\n",
    "y=mc[\"label\"]"
   ]
  },
  {
   "cell_type": "code",
   "execution_count": 26,
   "metadata": {
    "colab": {
     "base_uri": "https://localhost:8080/"
    },
    "id": "54MYbpNMYYes",
    "outputId": "cb08d450-7773-4849-c98e-35b4767927bd"
   },
   "outputs": [
    {
     "name": "stdout",
     "output_type": "stream",
     "text": [
      "(209593, 32)\n",
      "(209593,)\n"
     ]
    }
   ],
   "source": [
    "print(x.shape)\n",
    "print(y.shape)"
   ]
  },
  {
   "cell_type": "code",
   "execution_count": 27,
   "metadata": {
    "colab": {
     "base_uri": "https://localhost:8080/"
    },
    "id": "lM6QtRbEOZqH",
    "outputId": "9eb0d3ab-c7a9-48ae-94c4-c7d6d9c697a7"
   },
   "outputs": [
    {
     "data": {
      "text/plain": [
       "array([[-0.10357685, -0.25229941, -0.27634619, ..., -0.22959366,\n",
       "         2.9046997 ,  2.39409346],\n",
       "       [-0.09776412,  0.73103667,  0.5533797 , ..., -0.22959366,\n",
       "        -0.38562959, -0.41923266],\n",
       "       [-0.10010243, -0.43201111, -0.42903256, ..., -0.22959366,\n",
       "        -0.38562959, -0.41923266],\n",
       "       ...,\n",
       "       [-0.09378769,  0.70079045,  0.53319431, ..., -0.22959366,\n",
       "         0.06820893, -0.04735622],\n",
       "       [-0.08428915,  0.77075515,  0.59455827, ..., -0.22959366,\n",
       "        -0.38562959,  0.59938541],\n",
       "       [-0.08628398, -0.09674426, -0.14174607, ..., -0.22959366,\n",
       "        -0.38562959, -0.41923266]])"
      ]
     },
     "execution_count": 27,
     "metadata": {
      "tags": []
     },
     "output_type": "execute_result"
    }
   ],
   "source": [
    "from sklearn.preprocessing import StandardScaler\n",
    "sc=StandardScaler()\n",
    "x=sc.fit_transform(x)\n",
    "x"
   ]
  },
  {
   "cell_type": "markdown",
   "metadata": {
    "id": "S8HE1J3QYYet"
   },
   "source": [
    "## Exploratory Data Analysis"
   ]
  },
  {
   "cell_type": "code",
   "execution_count": 28,
   "metadata": {
    "colab": {
     "base_uri": "https://localhost:8080/"
    },
    "id": "UIaYV6y5YYet",
    "outputId": "c698f641-de9a-4ce6-853a-1f244bc23e09"
   },
   "outputs": [
    {
     "data": {
      "text/plain": [
       "False"
      ]
     },
     "execution_count": 28,
     "metadata": {
      "tags": []
     },
     "output_type": "execute_result"
    }
   ],
   "source": [
    "mc.isnull().values.any()"
   ]
  },
  {
   "cell_type": "code",
   "execution_count": 29,
   "metadata": {
    "colab": {
     "base_uri": "https://localhost:8080/",
     "height": 309
    },
    "id": "wvvCq6PWYYet",
    "outputId": "dc394ab0-2343-4d80-a6ab-32b7e69bda8e"
   },
   "outputs": [
    {
     "data": {
      "text/plain": [
       "Text(0, 0.5, 'Frequency')"
      ]
     },
     "execution_count": 29,
     "metadata": {
      "tags": []
     },
     "output_type": "execute_result"
    },
    {
     "data": {
      "image/png": "[encoded data removed]",
      "text/plain": [
       "<Figure size 432x288 with 1 Axes>"
      ]
     },
     "metadata": {
      "needs_background": "light",
      "tags": []
     },
     "output_type": "display_data"
    }
   ],
   "source": [
    "count_classes=pd.value_counts(mc['label'],sort=True)\n",
    "count_classes.plot(kind='bar')\n",
    "plt.title(\"Defaulter vs Non-Defaulter\")\n",
    "plt.xlabel('Label')\n",
    "plt.ylabel('Frequency')"
   ]
  },
  {
   "cell_type": "code",
   "execution_count": 30,
   "metadata": {
    "colab": {
     "base_uri": "https://localhost:8080/"
    },
    "id": "gjAf5bAqYYeu",
    "outputId": "02bfb6b6-217a-4cb2-8209-4ab52074ae7b"
   },
   "outputs": [
    {
     "name": "stdout",
     "output_type": "stream",
     "text": [
      "(183431, 33) (26162, 33)\n"
     ]
    }
   ],
   "source": [
    "#Get the defaulter and Non-defaulter \n",
    "\n",
    "defaulter=mc[mc[\"label\"]==1]\n",
    "non_defaulter=mc[mc['label']==0]\n",
    "print(defaulter.shape,non_defaulter.shape)"
   ]
  },
  {
   "cell_type": "code",
   "execution_count": 31,
   "metadata": {
    "id": "J6KrdJvoYYeu"
   },
   "outputs": [],
   "source": [
    "\n",
    "from imblearn.under_sampling import NearMiss"
   ]
  },
  {
   "cell_type": "code",
   "execution_count": 32,
   "metadata": {
    "id": "2k6aSI2JYYev"
   },
   "outputs": [],
   "source": [
    "nm = NearMiss()\n",
    "x_train_miss, y_train_miss = nm.fit_sample(x, y)"
   ]
  },
  {
   "cell_type": "code",
   "execution_count": 33,
   "metadata": {
    "colab": {
     "base_uri": "https://localhost:8080/"
    },
    "id": "2cXciItsq2cC",
    "outputId": "26a43099-5a56-47e6-e8a9-aa01e6e121d0"
   },
   "outputs": [
    {
     "name": "stdout",
     "output_type": "stream",
     "text": [
      "After Undersampling, the shape of train_X: (52324, 32)\n",
      "After Undersampling, the shape of train_y: (52324,) \n",
      "\n"
     ]
    }
   ],
   "source": [
    "print('After Undersampling, the shape of train_X: {}'.format(x_train_miss.shape))\n",
    "print('After Undersampling, the shape of train_y: {} \\n'.format(y_train_miss.shape))"
   ]
  },
  {
   "cell_type": "code",
   "execution_count": 34,
   "metadata": {
    "colab": {
     "base_uri": "https://localhost:8080/"
    },
    "id": "Mk4eKTZBr-VW",
    "outputId": "49a47379-9463-4de1-f6b0-2362e911847c"
   },
   "outputs": [
    {
     "name": "stdout",
     "output_type": "stream",
     "text": [
      "After Undersampling, counts of label '1': 26162\n",
      "After Undersampling, counts of label '0': 26162\n"
     ]
    }
   ],
   "source": [
    "print(\"After Undersampling, counts of label '1': {}\".format(sum(y_train_miss == 1)))\n",
    "print(\"After Undersampling, counts of label '0': {}\".format(sum(y_train_miss == 0)))"
   ]
  },
  {
   "cell_type": "code",
   "execution_count": 35,
   "metadata": {
    "id": "0hFPw-qKMR-s"
   },
   "outputs": [],
   "source": [
    "x=x_train_miss\n",
    "y=y_train_miss"
   ]
  },
  {
   "cell_type": "markdown",
   "metadata": {
    "id": "XmAYo6KTL4S5"
   },
   "source": [
    "# Find Best Random State\n"
   ]
  },
  {
   "cell_type": "code",
   "execution_count": 36,
   "metadata": {
    "id": "3GY4HVKiMG3O"
   },
   "outputs": [],
   "source": [
    "from sklearn.model_selection import train_test_split\n",
    "from sklearn.linear_model import LogisticRegression\n",
    "from sklearn.metrics import accuracy_score"
   ]
  },
  {
   "cell_type": "code",
   "execution_count": 37,
   "metadata": {
    "colab": {
     "base_uri": "https://localhost:8080/"
    },
    "id": "CRKVAn6OMK8p",
    "outputId": "051fdf7b-2469-4480-bda4-fe1b1919da42"
   },
   "outputs": [
    {
     "name": "stdout",
     "output_type": "stream",
     "text": [
      "Best accuracy is 0.6965218499171869 n Random_state 80\n"
     ]
    }
   ],
   "source": [
    "maxAccu=0\n",
    "maxRS=0\n",
    "for i in range(1,200):\n",
    "    x_train,x_test,y_train,y_test=train_test_split(x,y,test_size=.30,random_state=i)\n",
    "    LR=LogisticRegression()\n",
    "    LR.fit(x_train,y_train)\n",
    "    predrf=LR.predict(x_test)\n",
    "    acc=accuracy_score(y_test,predrf)\n",
    "    if acc>maxAccu:\n",
    "        maxAccu=acc\n",
    "        maxRS=i\n",
    "print(\"Best accuracy is\",maxAccu,\"n Random_state\",maxRS)"
   ]
  },
  {
   "cell_type": "markdown",
   "metadata": {
    "id": "ICIsXTw0NdPS"
   },
   "source": [
    "#### We have found best random_state value as 80. We will create our train_test_split using random_state(80)"
   ]
  },
  {
   "cell_type": "code",
   "execution_count": 38,
   "metadata": {
    "id": "oIHqGpL7NszX"
   },
   "outputs": [],
   "source": [
    "from sklearn.linear_model import LogisticRegression \n",
    "from sklearn.svm import SVC \n",
    "from sklearn.tree import DecisionTreeClassifier\n",
    "from sklearn.neighbors import KNeighborsClassifier\n",
    "from sklearn.ensemble import RandomForestClassifier\n",
    "from sklearn.ensemble import AdaBoostClassifier\n",
    "from sklearn.ensemble import GradientBoostingClassifier\n",
    "from sklearn.ensemble import BaggingClassifier\n",
    "\n",
    "from sklearn.model_selection import train_test_split\n",
    "\n",
    "from sklearn.metrics import confusion_matrix\n",
    "from sklearn.metrics import accuracy_score\n",
    "from sklearn.metrics import classification_report"
   ]
  },
  {
   "cell_type": "code",
   "execution_count": 39,
   "metadata": {
    "id": "Alb3BAZ6N2np"
   },
   "outputs": [],
   "source": [
    "x_train,x_test,y_train,y_test=train_test_split(x,y,test_size=.30,random_state=80)"
   ]
  },
  {
   "cell_type": "code",
   "execution_count": 40,
   "metadata": {
    "id": "35_LYOGbN6Qw"
   },
   "outputs": [],
   "source": [
    "def eval(x):\n",
    "    mod=x\n",
    "    mod.fit(x_train,y_train)\n",
    "    pred=mod.predict(x_test)\n",
    "    print(accuracy_score(y_test,pred))\n",
    "    print(confusion_matrix(y_test,pred))\n",
    "    print(classification_report(y_test,pred))"
   ]
  },
  {
   "cell_type": "code",
   "execution_count": 41,
   "metadata": {
    "colab": {
     "base_uri": "https://localhost:8080/"
    },
    "id": "v1FSM0uqQzoz",
    "outputId": "d8724029-2e55-4c8c-98dd-ea57c37ddc21"
   },
   "outputs": [
    {
     "name": "stdout",
     "output_type": "stream",
     "text": [
      "0.6965218499171869\n",
      "[[3969 3809]\n",
      " [ 955 6965]]\n",
      "              precision    recall  f1-score   support\n",
      "\n",
      "           0       0.81      0.51      0.62      7778\n",
      "           1       0.65      0.88      0.75      7920\n",
      "\n",
      "    accuracy                           0.70     15698\n",
      "   macro avg       0.73      0.69      0.69     15698\n",
      "weighted avg       0.73      0.70      0.69     15698\n",
      "\n"
     ]
    }
   ],
   "source": [
    "eval(LogisticRegression())"
   ]
  },
  {
   "cell_type": "code",
   "execution_count": 42,
   "metadata": {
    "colab": {
     "base_uri": "https://localhost:8080/"
    },
    "id": "l8GTbLSBXLB4",
    "outputId": "6d413449-39b4-4a18-e843-d75b08bcdd59"
   },
   "outputs": [
    {
     "name": "stdout",
     "output_type": "stream",
     "text": [
      "0.7082430882915021\n",
      "[[3732 4046]\n",
      " [ 534 7386]]\n",
      "              precision    recall  f1-score   support\n",
      "\n",
      "           0       0.87      0.48      0.62      7778\n",
      "           1       0.65      0.93      0.76      7920\n",
      "\n",
      "    accuracy                           0.71     15698\n",
      "   macro avg       0.76      0.71      0.69     15698\n",
      "weighted avg       0.76      0.71      0.69     15698\n",
      "\n"
     ]
    }
   ],
   "source": [
    "eval(SVC())"
   ]
  },
  {
   "cell_type": "code",
   "execution_count": 43,
   "metadata": {
    "colab": {
     "base_uri": "https://localhost:8080/"
    },
    "id": "5W7evmFaQ8cb",
    "outputId": "58c78f6d-6d30-49a8-cbb5-db396ffebae7"
   },
   "outputs": [
    {
     "name": "stdout",
     "output_type": "stream",
     "text": [
      "0.7723913874378902\n",
      "[[5977 1801]\n",
      " [1772 6148]]\n",
      "              precision    recall  f1-score   support\n",
      "\n",
      "           0       0.77      0.77      0.77      7778\n",
      "           1       0.77      0.78      0.77      7920\n",
      "\n",
      "    accuracy                           0.77     15698\n",
      "   macro avg       0.77      0.77      0.77     15698\n",
      "weighted avg       0.77      0.77      0.77     15698\n",
      "\n"
     ]
    }
   ],
   "source": [
    "eval(DecisionTreeClassifier())"
   ]
  },
  {
   "cell_type": "code",
   "execution_count": 44,
   "metadata": {
    "colab": {
     "base_uri": "https://localhost:8080/"
    },
    "id": "tkGOLBu1Q_qu",
    "outputId": "543e74be-443e-49f5-8796-6999bea8bfd5"
   },
   "outputs": [
    {
     "name": "stdout",
     "output_type": "stream",
     "text": [
      "0.7421964581475348\n",
      "[[5475 2303]\n",
      " [1744 6176]]\n",
      "              precision    recall  f1-score   support\n",
      "\n",
      "           0       0.76      0.70      0.73      7778\n",
      "           1       0.73      0.78      0.75      7920\n",
      "\n",
      "    accuracy                           0.74     15698\n",
      "   macro avg       0.74      0.74      0.74     15698\n",
      "weighted avg       0.74      0.74      0.74     15698\n",
      "\n"
     ]
    }
   ],
   "source": [
    "eval(KNeighborsClassifier())"
   ]
  },
  {
   "cell_type": "code",
   "execution_count": 45,
   "metadata": {
    "colab": {
     "base_uri": "https://localhost:8080/"
    },
    "id": "12pFOdloRE0b",
    "outputId": "673e2e1d-0d6b-48f5-a1f3-0946ed368f6a"
   },
   "outputs": [
    {
     "name": "stdout",
     "output_type": "stream",
     "text": [
      "0.8281309720983565\n",
      "[[6340 1438]\n",
      " [1260 6660]]\n",
      "              precision    recall  f1-score   support\n",
      "\n",
      "           0       0.83      0.82      0.82      7778\n",
      "           1       0.82      0.84      0.83      7920\n",
      "\n",
      "    accuracy                           0.83     15698\n",
      "   macro avg       0.83      0.83      0.83     15698\n",
      "weighted avg       0.83      0.83      0.83     15698\n",
      "\n"
     ]
    }
   ],
   "source": [
    "eval(RandomForestClassifier())"
   ]
  },
  {
   "cell_type": "code",
   "execution_count": 46,
   "metadata": {
    "colab": {
     "base_uri": "https://localhost:8080/"
    },
    "id": "9l8-inOoRQ-V",
    "outputId": "fab47b28-2315-4e8d-d37e-3a6005ed5bb4"
   },
   "outputs": [
    {
     "name": "stdout",
     "output_type": "stream",
     "text": [
      "0.8032870429354058\n",
      "[[5761 2017]\n",
      " [1071 6849]]\n",
      "              precision    recall  f1-score   support\n",
      "\n",
      "           0       0.84      0.74      0.79      7778\n",
      "           1       0.77      0.86      0.82      7920\n",
      "\n",
      "    accuracy                           0.80     15698\n",
      "   macro avg       0.81      0.80      0.80     15698\n",
      "weighted avg       0.81      0.80      0.80     15698\n",
      "\n"
     ]
    }
   ],
   "source": [
    "eval(AdaBoostClassifier())"
   ]
  },
  {
   "cell_type": "code",
   "execution_count": 47,
   "metadata": {
    "colab": {
     "base_uri": "https://localhost:8080/"
    },
    "id": "sF-vJk3RRUCo",
    "outputId": "ce4e60d9-32a8-40cb-cd9b-e2e542c9ac98"
   },
   "outputs": [
    {
     "name": "stdout",
     "output_type": "stream",
     "text": [
      "0.8152630908395974\n",
      "[[5839 1939]\n",
      " [ 961 6959]]\n",
      "              precision    recall  f1-score   support\n",
      "\n",
      "           0       0.86      0.75      0.80      7778\n",
      "           1       0.78      0.88      0.83      7920\n",
      "\n",
      "    accuracy                           0.82     15698\n",
      "   macro avg       0.82      0.81      0.81     15698\n",
      "weighted avg       0.82      0.82      0.81     15698\n",
      "\n"
     ]
    }
   ],
   "source": [
    "eval(GradientBoostingClassifier())"
   ]
  },
  {
   "cell_type": "code",
   "execution_count": 48,
   "metadata": {
    "colab": {
     "base_uri": "https://localhost:8080/"
    },
    "id": "rrxKNXq9RYqw",
    "outputId": "962197a8-a108-4299-e031-58fbd77abe23"
   },
   "outputs": [
    {
     "name": "stdout",
     "output_type": "stream",
     "text": [
      "0.8042425786724423\n",
      "[[6359 1419]\n",
      " [1654 6266]]\n",
      "              precision    recall  f1-score   support\n",
      "\n",
      "           0       0.79      0.82      0.81      7778\n",
      "           1       0.82      0.79      0.80      7920\n",
      "\n",
      "    accuracy                           0.80     15698\n",
      "   macro avg       0.80      0.80      0.80     15698\n",
      "weighted avg       0.80      0.80      0.80     15698\n",
      "\n"
     ]
    }
   ],
   "source": [
    "eval(BaggingClassifier())"
   ]
  },
  {
   "cell_type": "markdown",
   "metadata": {
    "id": "pV77dSQbRh-1"
   },
   "source": [
    "###  Checking Cross Validation Score"
   ]
  },
  {
   "cell_type": "code",
   "execution_count": 49,
   "metadata": {
    "id": "5Ji5Ej_oRqSX"
   },
   "outputs": [],
   "source": [
    "from sklearn.model_selection import cross_val_score"
   ]
  },
  {
   "cell_type": "code",
   "execution_count": 50,
   "metadata": {
    "colab": {
     "base_uri": "https://localhost:8080/"
    },
    "id": "pXGY-960Rtzu",
    "outputId": "61945b2d-95e5-4e46-9e0a-54abf6c870b0"
   },
   "outputs": [
    {
     "name": "stdout",
     "output_type": "stream",
     "text": [
      "Cross Validation Score for LogisticRegression model 0.5818339035316499\n"
     ]
    }
   ],
   "source": [
    "scr=cross_val_score(LogisticRegression(),x,y,cv=5)\n",
    "print(\"Cross Validation Score for LogisticRegression model\",scr.mean())"
   ]
  },
  {
   "cell_type": "code",
   "execution_count": 51,
   "metadata": {
    "colab": {
     "base_uri": "https://localhost:8080/"
    },
    "id": "MV_S1t-2X4Rk",
    "outputId": "c2d6880a-c302-468c-c608-77e93f4340ff"
   },
   "outputs": [
    {
     "name": "stdout",
     "output_type": "stream",
     "text": [
      "Cross Validation Score for SVC model 0.5893837493114518\n"
     ]
    }
   ],
   "source": [
    "scr=cross_val_score(SVC(),x,y,cv=5)\n",
    "print(\"Cross Validation Score for SVC model\",scr.mean())"
   ]
  },
  {
   "cell_type": "code",
   "execution_count": 52,
   "metadata": {
    "colab": {
     "base_uri": "https://localhost:8080/"
    },
    "id": "rSGA6fl-R1ON",
    "outputId": "6deea5af-1dc5-4659-b16b-620694d81d21"
   },
   "outputs": [
    {
     "name": "stdout",
     "output_type": "stream",
     "text": [
      "Cross Validation Score for DecisionTreeClassifier model 0.6469112346236399\n"
     ]
    }
   ],
   "source": [
    "scr=cross_val_score(DecisionTreeClassifier(),x,y,cv=5)\n",
    "print(\"Cross Validation Score for DecisionTreeClassifier model\",scr.mean())"
   ]
  },
  {
   "cell_type": "code",
   "execution_count": 53,
   "metadata": {
    "colab": {
     "base_uri": "https://localhost:8080/"
    },
    "id": "NToWav1oR5gz",
    "outputId": "898265bc-8329-47a3-abb4-a88796b3a087"
   },
   "outputs": [
    {
     "name": "stdout",
     "output_type": "stream",
     "text": [
      "Cross Validation Score for KNeighborsClassifier model 0.5473221408627272\n"
     ]
    }
   ],
   "source": [
    "scr=cross_val_score(KNeighborsClassifier(),x,y,cv=5)\n",
    "print(\"Cross Validation Score for KNeighborsClassifier model\",scr.mean())"
   ]
  },
  {
   "cell_type": "code",
   "execution_count": 54,
   "metadata": {
    "colab": {
     "base_uri": "https://localhost:8080/"
    },
    "id": "TFEchj8ZR9ej",
    "outputId": "fcf54952-260d-4de0-c87e-c0174ca23f8e"
   },
   "outputs": [
    {
     "name": "stdout",
     "output_type": "stream",
     "text": [
      "Cross Validation Score for RandomForestClassifier model 0.6726351746246042\n"
     ]
    }
   ],
   "source": [
    "scr=cross_val_score(RandomForestClassifier(),x,y,cv=5)\n",
    "print(\"Cross Validation Score for RandomForestClassifier model\",scr.mean())"
   ]
  },
  {
   "cell_type": "code",
   "execution_count": 55,
   "metadata": {
    "colab": {
     "base_uri": "https://localhost:8080/"
    },
    "id": "dT1Qa9cISWRq",
    "outputId": "0cc99967-de1d-4b5c-861f-c7f3774f25dc"
   },
   "outputs": [
    {
     "name": "stdout",
     "output_type": "stream",
     "text": [
      "Cross Validation Score for AdaBoostClassifier model 0.749041144502353\n"
     ]
    }
   ],
   "source": [
    "scr=cross_val_score(AdaBoostClassifier(),x,y,cv=5)\n",
    "print(\"Cross Validation Score for AdaBoostClassifier model\",scr.mean())"
   ]
  },
  {
   "cell_type": "code",
   "execution_count": 56,
   "metadata": {
    "colab": {
     "base_uri": "https://localhost:8080/"
    },
    "id": "FOonDob8Slp0",
    "outputId": "43134921-1ef6-488d-a50f-aeaee9d171e8"
   },
   "outputs": [
    {
     "name": "stdout",
     "output_type": "stream",
     "text": [
      "Cross Validation Score for GradientBoostingClassifier model 0.7417411869476089\n"
     ]
    }
   ],
   "source": [
    "scr=cross_val_score(GradientBoostingClassifier(),x,y,cv=5)\n",
    "print(\"Cross Validation Score for GradientBoostingClassifier model\",scr.mean())"
   ]
  },
  {
   "cell_type": "code",
   "execution_count": 57,
   "metadata": {
    "colab": {
     "base_uri": "https://localhost:8080/"
    },
    "id": "je6rJdn_SxG-",
    "outputId": "9eb64ccd-93ec-4056-bd4e-3d8b1e2a96e6"
   },
   "outputs": [
    {
     "name": "stdout",
     "output_type": "stream",
     "text": [
      "Cross Validation Score for BaggingClassifier model 0.6785789386786594\n"
     ]
    }
   ],
   "source": [
    "scr=cross_val_score(BaggingClassifier(),x,y,cv=5)\n",
    "print(\"Cross Validation Score for BaggingClassifier model\",scr.mean())"
   ]
  },
  {
   "cell_type": "markdown",
   "metadata": {
    "id": "yrijucfXVK3X"
   },
   "source": [
    "***Minimum difference in accuracy and cross validation score is for AdaBoostClassifier. So AdaBoostClassifier is our best model***"
   ]
  },
  {
   "cell_type": "markdown",
   "metadata": {
    "id": "x95ZKmTyU8Hq"
   },
   "source": [
    "# Hyper Tuning the Model"
   ]
  },
  {
   "cell_type": "code",
   "execution_count": 63,
   "metadata": {
    "id": "nMb2BhbMVBdW"
   },
   "outputs": [],
   "source": [
    "from sklearn.model_selection import GridSearchCV"
   ]
  },
  {
   "cell_type": "code",
   "execution_count": 62,
   "metadata": {
    "id": "XDW0s4eCvH5z"
   },
   "outputs": [],
   "source": [
    "#AdaBoostClassifier\n",
    "\n",
    "parameters={'n_estimators':range(5,20),'algorithm':('SAMME','SAMME.R'),'random_state': range(20,40)}\n",
    "\n"
   ]
  },
  {
   "cell_type": "markdown",
   "metadata": {
    "id": "eHPlS5yQ6NhB"
   },
   "source": []
  },
  {
   "cell_type": "code",
   "execution_count": 64,
   "metadata": {
    "id": "iIvaPHBfwKKv"
   },
   "outputs": [],
   "source": [
    "ABC=GridSearchCV(AdaBoostClassifier(),parameters,cv=5)\n"
   ]
  },
  {
   "cell_type": "code",
   "execution_count": 65,
   "metadata": {
    "colab": {
     "base_uri": "https://localhost:8080/"
    },
    "id": "KLnvCvpl6WYK",
    "outputId": "18bfd89f-04a2-4c05-f8a7-e0bf7bc2f565"
   },
   "outputs": [
    {
     "data": {
      "text/plain": [
       "GridSearchCV(cv=5, error_score=nan,\n",
       "             estimator=AdaBoostClassifier(algorithm='SAMME.R',\n",
       "                                          base_estimator=None,\n",
       "                                          learning_rate=1.0, n_estimators=50,\n",
       "                                          random_state=None),\n",
       "             iid='deprecated', n_jobs=None,\n",
       "             param_grid={'algorithm': ('SAMME', 'SAMME.R'),\n",
       "                         'n_estimators': range(5, 20),\n",
       "                         'random_state': range(20, 40)},\n",
       "             pre_dispatch='2*n_jobs', refit=True, return_train_score=False,\n",
       "             scoring=None, verbose=0)"
      ]
     },
     "execution_count": 65,
     "metadata": {
      "tags": []
     },
     "output_type": "execute_result"
    }
   ],
   "source": [
    "ABC.fit(x_train,y_train)\n"
   ]
  },
  {
   "cell_type": "code",
   "execution_count": 66,
   "metadata": {
    "colab": {
     "base_uri": "https://localhost:8080/"
    },
    "id": "uxCIZone6Y4t",
    "outputId": "6f5778de-0722-4315-860a-c8a98524ad29"
   },
   "outputs": [
    {
     "data": {
      "text/plain": [
       "{'algorithm': 'SAMME.R', 'n_estimators': 19, 'random_state': 20}"
      ]
     },
     "execution_count": 66,
     "metadata": {
      "tags": []
     },
     "output_type": "execute_result"
    }
   ],
   "source": [
    "ABC.best_params_"
   ]
  },
  {
   "cell_type": "code",
   "execution_count": 67,
   "metadata": {
    "colab": {
     "base_uri": "https://localhost:8080/"
    },
    "id": "SxvPvsVJBG8_",
    "outputId": "940e2a66-92f2-4d5b-e071-4ac69ddf890d"
   },
   "outputs": [
    {
     "name": "stdout",
     "output_type": "stream",
     "text": [
      "78.97184354694866\n"
     ]
    }
   ],
   "source": [
    "mod=AdaBoostClassifier(algorithm= 'SAMME.R', n_estimators= 19,random_state=20)\n",
    "mod.fit(x_train,y_train)\n",
    "\n",
    "pred=mod.predict(x_test)\n",
    "print(accuracy_score(y_test,pred)*100)"
   ]
  },
  {
   "cell_type": "markdown",
   "metadata": {
    "id": "P2zC41wtCBOM"
   },
   "source": [
    "### AUC RUC Curve"
   ]
  },
  {
   "cell_type": "code",
   "execution_count": 68,
   "metadata": {
    "id": "wWi5IiFaCHAh"
   },
   "outputs": [],
   "source": [
    "from sklearn.metrics import plot_roc_curve"
   ]
  },
  {
   "cell_type": "code",
   "execution_count": 70,
   "metadata": {
    "colab": {
     "base_uri": "https://localhost:8080/",
     "height": 295
    },
    "id": "HjjI-mzqCfcK",
    "outputId": "7bec9638-cdf9-4310-bd11-9688a8bf6b52"
   },
   "outputs": [
    {
     "data": {
      "image/png": "[encoded data removed]",
      "text/plain": [
       "<Figure size 432x288 with 1 Axes>"
      ]
     },
     "metadata": {
      "needs_background": "light",
      "tags": []
     },
     "output_type": "display_data"
    }
   ],
   "source": [
    "plot_roc_curve(mod,x_test,y_test)\n",
    "plt.title(\"Receiver Operating Characteristic\")\n",
    "plt.xlabel(\"Fasle Positive Rate\")\n",
    "plt.ylabel(\"True Postive Rate\")\n",
    "plt.show()"
   ]
  },
  {
   "cell_type": "code",
   "execution_count": 73,
   "metadata": {
    "id": "TVxmKOuIGYH8"
   },
   "outputs": [],
   "source": [
    "from sklearn.metrics import classification_report,confusion_matrix,accuracy_score,roc_curve,auc,recall_score,precision_score"
   ]
  },
  {
   "cell_type": "code",
   "execution_count": 76,
   "metadata": {
    "colab": {
     "base_uri": "https://localhost:8080/"
    },
    "id": "c6EXXYSBDYJ0",
    "outputId": "9a0860b1-7741-4cd0-cad1-7bfe0c52bb98"
   },
   "outputs": [
    {
     "name": "stdout",
     "output_type": "stream",
     "text": [
      "AdaBoostClassifier(algorithm='SAMME.R', base_estimator=None, learning_rate=1.0,\n",
      "                   n_estimators=50, random_state=None)\n",
      "Accuracy_score =\n",
      " 0.8032870429354058\n",
      "Cross_Val_Score =\n",
      " 0.7778998881480794\n",
      "Recall =\n",
      " 0.8647727272727272\n",
      "Precision: 0.773\n",
      "\n",
      "roc_auc_score= \n",
      " 0.8027257825101101\n",
      "classification_report\n",
      "               precision    recall  f1-score   support\n",
      "\n",
      "           0       0.84      0.74      0.79      7778\n",
      "           1       0.77      0.86      0.82      7920\n",
      "\n",
      "    accuracy                           0.80     15698\n",
      "   macro avg       0.81      0.80      0.80     15698\n",
      "weighted avg       0.81      0.80      0.80     15698\n",
      "\n",
      "[[5761 2017]\n",
      " [1071 6849]]\n"
     ]
    }
   ],
   "source": [
    "model=AdaBoostClassifier()\n",
    "model.fit(x_train,y_train)\n",
    "print(model)\n",
    "pre=model.predict(x_test)  \n",
    "AS=accuracy_score(y_test,pre)\n",
    "sc=cross_val_score(model,x,y,cv=10,scoring='accuracy').mean()\n",
    "recall = recall_score(y_test,pre, average='binary')\n",
    "precision = precision_score(y_test,pre, average='binary')\n",
    "false_positive_rate,true_positive_rate,thresholds=roc_curve(y_test,pre)\n",
    "roc_auc=auc(false_positive_rate,true_positive_rate)\n",
    "cm=confusion_matrix(y_test,pre)\n",
    "cm=confusion_matrix(y_test,pre)\n",
    "print('Accuracy_score =\\n',AS)\n",
    "    \n",
    "\n",
    "print('Cross_Val_Score =\\n',sc)\n",
    "    \n",
    "\n",
    "print('Recall =\\n', recall)\n",
    "   \n",
    "\n",
    "print('Precision: %.3f\\n' % precision)\n",
    "    \n",
    "\n",
    "print('roc_auc_score= \\n',roc_auc)\n",
    "\n",
    "    \n",
    "print('classification_report\\n',classification_report(y_test,pre))\n",
    "    \n",
    "cm=confusion_matrix(y_test,pre)\n",
    "print(cm)"
   ]
  },
  {
   "cell_type": "markdown",
   "metadata": {
    "id": "dbLvCCYGMhYJ"
   },
   "source": [
    "## Saving a Model"
   ]
  },
  {
   "cell_type": "code",
   "execution_count": 79,
   "metadata": {
    "id": "aSASWXIgMmCn"
   },
   "outputs": [],
   "source": [
    "import pickle\n",
    "filename = 'micro_credit_finance.csv.pkl'\n",
    "pickle.dump(ABC,open(filename,'wb'))"
   ]
  },
  {
   "cell_type": "markdown",
   "metadata": {
    "id": "aDN14_NlM1Ud"
   },
   "source": [
    "## Conclusion"
   ]
  },
  {
   "cell_type": "code",
   "execution_count": 80,
   "metadata": {
    "colab": {
     "base_uri": "https://localhost:8080/"
    },
    "id": "Nt84rED2M38p",
    "outputId": "38c295e6-ecbb-4dc8-d0e9-0adcd8fcf01a"
   },
   "outputs": [
    {
     "data": {
      "text/plain": [
       "array([0, 0, 1, ..., 0, 0, 0])"
      ]
     },
     "execution_count": 80,
     "metadata": {
      "tags": []
     },
     "output_type": "execute_result"
    }
   ],
   "source": [
    "Final=np.array(y_test)\n",
    "Final"
   ]
  },
  {
   "cell_type": "code",
   "execution_count": 83,
   "metadata": {
    "id": "vgYL1kqbNGgE"
   },
   "outputs": [],
   "source": [
    "predict=np.array(ABC.predict(x_test))"
   ]
  },
  {
   "cell_type": "code",
   "execution_count": 84,
   "metadata": {
    "id": "2BqyChbLNKwI"
   },
   "outputs": [],
   "source": [
    "mc_pred=pd.DataFrame({\"original\":Final,\"predicted\":predict},index=range(len(Final)))"
   ]
  },
  {
   "cell_type": "code",
   "execution_count": 85,
   "metadata": {
    "colab": {
     "base_uri": "https://localhost:8080/",
     "height": 419
    },
    "id": "_KuzMrMeNnPw",
    "outputId": "69283180-fa0c-4f60-b236-0a29bc771b49"
   },
   "outputs": [
    {
     "data": {
      "text/html": [
       "<div>\n",
       "<style scoped>\n",
       "    .dataframe tbody tr th:only-of-type {\n",
       "        vertical-align: middle;\n",
       "    }\n",
       "\n",
       "    .dataframe tbody tr th {\n",
       "        vertical-align: top;\n",
       "    }\n",
       "\n",
       "    .dataframe thead th {\n",
       "        text-align: right;\n",
       "    }\n",
       "</style>\n",
       "<table border=\"1\" class=\"dataframe\">\n",
       "  <thead>\n",
       "    <tr style=\"text-align: right;\">\n",
       "      <th></th>\n",
       "      <th>original</th>\n",
       "      <th>predicted</th>\n",
       "    </tr>\n",
       "  </thead>\n",
       "  <tbody>\n",
       "    <tr>\n",
       "      <th>0</th>\n",
       "      <td>0</td>\n",
       "      <td>0</td>\n",
       "    </tr>\n",
       "    <tr>\n",
       "      <th>1</th>\n",
       "      <td>0</td>\n",
       "      <td>0</td>\n",
       "    </tr>\n",
       "    <tr>\n",
       "      <th>2</th>\n",
       "      <td>1</td>\n",
       "      <td>0</td>\n",
       "    </tr>\n",
       "    <tr>\n",
       "      <th>3</th>\n",
       "      <td>1</td>\n",
       "      <td>1</td>\n",
       "    </tr>\n",
       "    <tr>\n",
       "      <th>4</th>\n",
       "      <td>0</td>\n",
       "      <td>0</td>\n",
       "    </tr>\n",
       "    <tr>\n",
       "      <th>...</th>\n",
       "      <td>...</td>\n",
       "      <td>...</td>\n",
       "    </tr>\n",
       "    <tr>\n",
       "      <th>15693</th>\n",
       "      <td>1</td>\n",
       "      <td>1</td>\n",
       "    </tr>\n",
       "    <tr>\n",
       "      <th>15694</th>\n",
       "      <td>1</td>\n",
       "      <td>1</td>\n",
       "    </tr>\n",
       "    <tr>\n",
       "      <th>15695</th>\n",
       "      <td>0</td>\n",
       "      <td>1</td>\n",
       "    </tr>\n",
       "    <tr>\n",
       "      <th>15696</th>\n",
       "      <td>0</td>\n",
       "      <td>1</td>\n",
       "    </tr>\n",
       "    <tr>\n",
       "      <th>15697</th>\n",
       "      <td>0</td>\n",
       "      <td>1</td>\n",
       "    </tr>\n",
       "  </tbody>\n",
       "</table>\n",
       "<p>15698 rows × 2 columns</p>\n",
       "</div>"
      ],
      "text/plain": [
       "       original  predicted\n",
       "0             0          0\n",
       "1             0          0\n",
       "2             1          0\n",
       "3             1          1\n",
       "4             0          0\n",
       "...         ...        ...\n",
       "15693         1          1\n",
       "15694         1          1\n",
       "15695         0          1\n",
       "15696         0          1\n",
       "15697         0          1\n",
       "\n",
       "[15698 rows x 2 columns]"
      ]
     },
     "execution_count": 85,
     "metadata": {
      "tags": []
     },
     "output_type": "execute_result"
    }
   ],
   "source": [
    "mc_pred"
   ]
  }
 ],
 "metadata": {
  "colab": {
   "collapsed_sections": [],
   "name": "Micro_credit_defaulter_project_final.ipynb",
   "provenance": [],
   "toc_visible": true
  },
  "kernelspec": {
   "display_name": "Python 3",
   "language": "python",
   "name": "python3"
  },
  "language_info": {
   "codemirror_mode": {
    "name": "ipython",
    "version": 3
   },
   "file_extension": ".py",
   "mimetype": "text/x-python",
   "name": "python",
   "nbconvert_exporter": "python",
   "pygments_lexer": "ipython3",
   "version": "3.8.5"
  }
 },
 "nbformat": 4,
 "nbformat_minor": 1
}
